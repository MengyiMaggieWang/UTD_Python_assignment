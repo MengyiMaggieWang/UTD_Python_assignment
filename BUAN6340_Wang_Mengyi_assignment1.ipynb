{
 "cells": [
  {
   "cell_type": "markdown",
   "metadata": {},
   "source": [
    "1)\tLoad in the appropriate csv file as a pandas dataframe (batting.csv)\n"
   ]
  },
  {
   "cell_type": "code",
   "execution_count": 56,
   "metadata": {
    "collapsed": true
   },
   "outputs": [],
   "source": [
    "import numpy as np"
   ]
  },
  {
   "cell_type": "code",
   "execution_count": 57,
   "metadata": {
    "collapsed": true
   },
   "outputs": [],
   "source": [
    "import pandas as pd"
   ]
  },
  {
   "cell_type": "markdown",
   "metadata": {},
   "source": [
    "1) Load in the appropriate csv file as a pandas dataframe (batting.csv)"
   ]
  },
  {
   "cell_type": "code",
   "execution_count": 58,
   "metadata": {
    "collapsed": true
   },
   "outputs": [],
   "source": [
    "bt = pd.read_csv(\"/Users/mac/Downloads/batting.csv\")"
   ]
  },
  {
   "cell_type": "markdown",
   "metadata": {},
   "source": [
    "2) Print out the dimensions and info about the dataframe you just created\n"
   ]
  },
  {
   "cell_type": "code",
   "execution_count": 59,
   "metadata": {},
   "outputs": [
    {
     "data": {
      "text/plain": [
       "(102816, 25)"
      ]
     },
     "execution_count": 59,
     "metadata": {},
     "output_type": "execute_result"
    }
   ],
   "source": [
    "bt.shape"
   ]
  },
  {
   "cell_type": "code",
   "execution_count": 60,
   "metadata": {},
   "outputs": [
    {
     "data": {
      "text/plain": [
       "<bound method DataFrame.info of          playerID  nameFirst     nameLast  birthYear  yearID  stint teamID  \\\n",
       "0       abercda01      Frank  Abercrombie       1850    1871      1    TRO   \n",
       "1        addybo01        Bob         Addy       1842    1871      1    RC1   \n",
       "2       allisar01        Art      Allison       1849    1871      1    CL1   \n",
       "3       allisdo01       Doug      Allison       1846    1871      1    WS3   \n",
       "4       ansonca01        Cap        Anson       1852    1871      1    RC1   \n",
       "5       armstbo01     Robert    Armstrong       1850    1871      1    FW1   \n",
       "6       barkeal01         Al       Barker       1839    1871      1    RC1   \n",
       "7       barnero01       Ross       Barnes       1850    1871      1    BS1   \n",
       "8       barrebi01       Bill      Barrett          0    1871      1    FW1   \n",
       "9       barrofr01      Frank      Barrows       1844    1871      1    BS1   \n",
       "10       bassjo01       John         Bass       1848    1871      1    CL1   \n",
       "11      battijo01        Joe       Battin       1853    1871      1    CL1   \n",
       "12      bealsto01      Tommy        Beals       1850    1871      1    WS3   \n",
       "13      beaveed01     Edward      Beavens       1848    1871      1    TRO   \n",
       "14      bechtge01     George      Bechtel       1848    1871      1    PH1   \n",
       "15      bellast01      Steve       Bellan       1849    1871      1    TRO   \n",
       "16      berkena01       Nate  Berkenstock       1831    1871      1    PH1   \n",
       "17      berryto01        Tom        Berry       1842    1871      1    PH1   \n",
       "18      berthha01      Harry    Berthrong       1844    1871      1    WS3   \n",
       "19      biermch01    Charles      Bierman       1845    1871      1    FW1   \n",
       "20       birdge01     George         Bird       1850    1871      1    RC1   \n",
       "21      birdsda01       Dave     Birdsall       1838    1871      1    BS1   \n",
       "22      brainas01        Asa     Brainard       1841    1871      1    WS3   \n",
       "23      brannmi01       Mike     Brannock       1851    1871      1    CH1   \n",
       "24      burrohe01      Henry    Burroughs       1845    1871      1    WS3   \n",
       "25      careyto01        Tom        Carey       1846    1871      1    FW1   \n",
       "26      carleji01        Jim     Carleton       1848    1871      1    CL1   \n",
       "27       conefr01       Fred         Cone       1848    1871      1    BS1   \n",
       "28      connone01        Ned       Connor       1850    1871      1    TRO   \n",
       "29      cravebi01       Bill       Craver       1844    1871      1    TRO   \n",
       "...           ...        ...          ...        ...     ...    ...    ...   \n",
       "102786  wittgni01       Nick     Wittgren       1991    2016      1    MIA   \n",
       "102787  wolteto01       Tony      Wolters       1992    2016      1    COL   \n",
       "102788   wongko01     Kolten         Wong       1990    2016      1    SLN   \n",
       "102789   woodal02       Alex         Wood       1991    2016      1    LAN   \n",
       "102790   woodbl01      Blake         Wood       1985    2016      1    CIN   \n",
       "102791   woodtr01     Travis         Wood       1987    2016      1    CHN   \n",
       "102792  worleva01      Vance       Worley       1987    2016      1    BAL   \n",
       "102793  worthda01      Danny        Worth       1985    2016      1    HOU   \n",
       "102794  wrighda03      David       Wright       1982    2016      1    NYN   \n",
       "102795  wrighda04     Daniel       Wright       1991    2016      1    CIN   \n",
       "102796  wrighda04     Daniel       Wright       1991    2016      2    LAA   \n",
       "102797  wrighmi01       Mike       Wright       1990    2016      1    BAL   \n",
       "102798  wrighst01     Steven       Wright       1984    2016      1    BOS   \n",
       "102799  yateski01      Kirby        Yates       1987    2016      1    NYA   \n",
       "102800  yelicch01  Christian       Yelich       1991    2016      1    MIA   \n",
       "102801   ynoaga01    Gabriel         Ynoa       1993    2016      1    NYN   \n",
       "102802   ynoami01    Michael         Ynoa       1991    2016      1    CHA   \n",
       "102803   ynoara01     Rafael         Ynoa       1987    2016      1    COL   \n",
       "102804  youngch03      Chris        Young       1979    2016      1    KCA   \n",
       "102805  youngch04      Chris        Young       1983    2016      1    BOS   \n",
       "102806  younger03       Eric        Young       1985    2016      1    NYA   \n",
       "102807  youngma03    Madison    Younginer       1990    2016      1    ATL   \n",
       "102808  zastrro01        Rob    Zastryzny       1992    2016      1    CHN   \n",
       "102809  zieglbr01       Brad      Ziegler       1979    2016      1    ARI   \n",
       "102810  zieglbr01       Brad      Ziegler       1979    2016      2    BOS   \n",
       "102811  zimmejo02     Jordan   Zimmermann       1986    2016      1    DET   \n",
       "102812  zimmery01       Ryan    Zimmerman       1984    2016      1    WAS   \n",
       "102813  zobribe01        Ben      Zobrist       1981    2016      1    CHN   \n",
       "102814  zuninmi01       Mike       Zunino       1991    2016      1    SEA   \n",
       "102815   zychto01       Tony         Zych       1990    2016      1    SEA   \n",
       "\n",
       "       lgID    G   AB  ...    RBI    SB   CS  BB     SO  IBB  HBP   SH   SF  \\\n",
       "0       NaN    1    4  ...    0.0   0.0  0.0   0    0.0  NaN  NaN  NaN  NaN   \n",
       "1       NaN   25  118  ...   13.0   8.0  1.0   4    0.0  NaN  NaN  NaN  NaN   \n",
       "2       NaN   29  137  ...   19.0   3.0  1.0   2    5.0  NaN  NaN  NaN  NaN   \n",
       "3       NaN   27  133  ...   27.0   1.0  1.0   0    2.0  NaN  NaN  NaN  NaN   \n",
       "4       NaN   25  120  ...   16.0   6.0  2.0   2    1.0  NaN  NaN  NaN  NaN   \n",
       "5       NaN   12   49  ...    5.0   0.0  1.0   0    1.0  NaN  NaN  NaN  NaN   \n",
       "6       NaN    1    4  ...    2.0   0.0  0.0   1    0.0  NaN  NaN  NaN  NaN   \n",
       "7       NaN   31  157  ...   34.0  11.0  6.0  13    1.0  NaN  NaN  NaN  NaN   \n",
       "8       NaN    1    5  ...    1.0   0.0  0.0   0    0.0  NaN  NaN  NaN  NaN   \n",
       "9       NaN   18   86  ...   11.0   1.0  0.0   0    0.0  NaN  NaN  NaN  NaN   \n",
       "10      NaN   22   89  ...   18.0   0.0  1.0   3    4.0  NaN  NaN  NaN  NaN   \n",
       "11      NaN    1    3  ...    0.0   0.0  0.0   1    0.0  NaN  NaN  NaN  NaN   \n",
       "12      NaN   10   36  ...    1.0   2.0  0.0   2    0.0  NaN  NaN  NaN  NaN   \n",
       "13      NaN    3   15  ...    5.0   2.0  0.0   0    0.0  NaN  NaN  NaN  NaN   \n",
       "14      NaN   20   94  ...   21.0   4.0  0.0   2    2.0  NaN  NaN  NaN  NaN   \n",
       "15      NaN   29  128  ...   23.0   4.0  4.0   9    2.0  NaN  NaN  NaN  NaN   \n",
       "16      NaN    1    4  ...    0.0   0.0  0.0   0    3.0  NaN  NaN  NaN  NaN   \n",
       "17      NaN    1    4  ...    0.0   0.0  0.0   0    0.0  NaN  NaN  NaN  NaN   \n",
       "18      NaN   17   73  ...    8.0   3.0  1.0   4    2.0  NaN  NaN  NaN  NaN   \n",
       "19      NaN    1    2  ...    0.0   0.0  0.0   1    0.0  NaN  NaN  NaN  NaN   \n",
       "20      NaN   25  106  ...   13.0   1.0  0.0   3    2.0  NaN  NaN  NaN  NaN   \n",
       "21      NaN   29  152  ...   24.0   6.0  0.0   4    4.0  NaN  NaN  NaN  NaN   \n",
       "22      NaN   30  134  ...   21.0   4.0  0.0   7    2.0  NaN  NaN  NaN  NaN   \n",
       "23      NaN    3   14  ...    0.0   0.0  0.0   0    0.0  NaN  NaN  NaN  NaN   \n",
       "24      NaN   12   63  ...   14.0   0.0  0.0   1    1.0  NaN  NaN  NaN  NaN   \n",
       "25      NaN   19   87  ...   10.0   5.0  0.0   2    1.0  NaN  NaN  NaN  NaN   \n",
       "26      NaN   29  127  ...   18.0   2.0  1.0   8    3.0  NaN  NaN  NaN  NaN   \n",
       "27      NaN   19   77  ...   16.0  12.0  1.0   8    2.0  NaN  NaN  NaN  NaN   \n",
       "28      NaN    7   33  ...    2.0   0.0  0.0   0    0.0  NaN  NaN  NaN  NaN   \n",
       "29      NaN   27  118  ...   26.0   6.0  3.0   3    0.0  NaN  NaN  NaN  NaN   \n",
       "...     ...  ...  ...  ...    ...   ...  ...  ..    ...  ...  ...  ...  ...   \n",
       "102786   NL   48    0  ...    0.0   0.0  0.0   0    0.0  0.0  0.0  0.0  0.0   \n",
       "102787   NL   71  205  ...   30.0   4.0  1.0  21   53.0  2.0  0.0  4.0  0.0   \n",
       "102788   NL  121  313  ...   23.0   7.0  0.0  34   52.0  2.0  9.0  0.0  5.0   \n",
       "102789   NL   15   16  ...    2.0   0.0  0.0   1    9.0  0.0  0.0  2.0  0.0   \n",
       "102790   NL   70    2  ...    0.0   0.0  0.0   0    2.0  0.0  0.0  0.0  0.0   \n",
       "102791   NL   81   11  ...    1.0   0.0  0.0   1    5.0  0.0  0.0  0.0  0.0   \n",
       "102792   AL   35    0  ...    0.0   0.0  0.0   0    0.0  0.0  0.0  0.0  0.0   \n",
       "102793   AL   16   39  ...    1.0   0.0  0.0   1    6.0  0.0  0.0  0.0  0.0   \n",
       "102794   NL   37  137  ...   14.0   3.0  2.0  26   55.0  0.0  0.0  0.0  0.0   \n",
       "102795   NL    4    5  ...    0.0   0.0  0.0   0    2.0  0.0  0.0  1.0  0.0   \n",
       "102796   AL    5    0  ...    0.0   0.0  0.0   0    0.0  0.0  0.0  0.0  0.0   \n",
       "102797   AL   18    0  ...    0.0   0.0  0.0   0    0.0  0.0  0.0  0.0  0.0   \n",
       "102798   AL   25    4  ...    0.0   0.0  0.0   0    3.0  0.0  0.0  0.0  0.0   \n",
       "102799   AL   41    0  ...    0.0   0.0  0.0   0    0.0  0.0  0.0  0.0  0.0   \n",
       "102800   NL  155  578  ...   98.0   9.0  4.0  72  138.0  4.0  4.0  0.0  5.0   \n",
       "102801   NL   10    3  ...    0.0   0.0  0.0   0    0.0  0.0  0.0  0.0  0.0   \n",
       "102802   AL   23    0  ...    0.0   0.0  0.0   0    0.0  0.0  0.0  0.0  0.0   \n",
       "102803   NL    3    5  ...    0.0   0.0  0.0   0    2.0  0.0  0.0  0.0  0.0   \n",
       "102804   AL   34    1  ...    0.0   0.0  0.0   0    0.0  0.0  0.0  0.0  0.0   \n",
       "102805   AL   76  203  ...   24.0   4.0  2.0  21   50.0  0.0  3.0  0.0  0.0   \n",
       "102806   AL    6    1  ...    0.0   1.0  0.0   0    0.0  0.0  0.0  0.0  0.0   \n",
       "102807   NL    8    0  ...    0.0   0.0  0.0   0    0.0  0.0  0.0  0.0  0.0   \n",
       "102808   NL    8    3  ...    0.0   0.0  0.0   0    2.0  0.0  0.0  0.0  0.0   \n",
       "102809   NL   36    0  ...    0.0   0.0  0.0   0    0.0  0.0  0.0  0.0  0.0   \n",
       "102810   AL   33    0  ...    0.0   0.0  0.0   0    0.0  0.0  0.0  0.0  0.0   \n",
       "102811   AL   19    4  ...    0.0   0.0  0.0   0    2.0  0.0  0.0  1.0  0.0   \n",
       "102812   NL  115  427  ...   46.0   4.0  1.0  29  104.0  1.0  5.0  0.0  6.0   \n",
       "102813   NL  147  523  ...   76.0   6.0  4.0  96   82.0  6.0  4.0  4.0  4.0   \n",
       "102814   AL   55  164  ...   31.0   0.0  0.0  21   65.0  0.0  6.0  0.0  1.0   \n",
       "102815   AL   12    0  ...    0.0   0.0  0.0   0    0.0  0.0  0.0  0.0  0.0   \n",
       "\n",
       "        GIDP  \n",
       "0        NaN  \n",
       "1        NaN  \n",
       "2        NaN  \n",
       "3        NaN  \n",
       "4        NaN  \n",
       "5        NaN  \n",
       "6        NaN  \n",
       "7        NaN  \n",
       "8        NaN  \n",
       "9        NaN  \n",
       "10       NaN  \n",
       "11       NaN  \n",
       "12       NaN  \n",
       "13       NaN  \n",
       "14       NaN  \n",
       "15       NaN  \n",
       "16       NaN  \n",
       "17       NaN  \n",
       "18       NaN  \n",
       "19       NaN  \n",
       "20       NaN  \n",
       "21       NaN  \n",
       "22       NaN  \n",
       "23       NaN  \n",
       "24       NaN  \n",
       "25       NaN  \n",
       "26       NaN  \n",
       "27       NaN  \n",
       "28       NaN  \n",
       "29       NaN  \n",
       "...      ...  \n",
       "102786   0.0  \n",
       "102787   1.0  \n",
       "102788   3.0  \n",
       "102789   0.0  \n",
       "102790   0.0  \n",
       "102791   0.0  \n",
       "102792   0.0  \n",
       "102793   1.0  \n",
       "102794   0.0  \n",
       "102795   0.0  \n",
       "102796   0.0  \n",
       "102797   0.0  \n",
       "102798   0.0  \n",
       "102799   0.0  \n",
       "102800  20.0  \n",
       "102801   0.0  \n",
       "102802   0.0  \n",
       "102803   0.0  \n",
       "102804   0.0  \n",
       "102805   4.0  \n",
       "102806   0.0  \n",
       "102807   0.0  \n",
       "102808   0.0  \n",
       "102809   0.0  \n",
       "102810   0.0  \n",
       "102811   0.0  \n",
       "102812  12.0  \n",
       "102813  17.0  \n",
       "102814   0.0  \n",
       "102815   0.0  \n",
       "\n",
       "[102816 rows x 25 columns]>"
      ]
     },
     "execution_count": 60,
     "metadata": {},
     "output_type": "execute_result"
    }
   ],
   "source": [
    "bt.info"
   ]
  },
  {
   "cell_type": "markdown",
   "metadata": {},
   "source": [
    "3)\tHow many players have hit 40 or more HRs in one single season? (Number only)\n"
   ]
  },
  {
   "cell_type": "code",
   "execution_count": 61,
   "metadata": {
    "collapsed": true
   },
   "outputs": [],
   "source": [
    "bt3=bt.groupby(['playerID','yearID'],as_index=False).agg({'HR':sum})\n",
    "###bt[bt[\"HR\"]>=40]['playerID'].count()----some players occur several times"
   ]
  },
  {
   "cell_type": "code",
   "execution_count": 62,
   "metadata": {},
   "outputs": [
    {
     "data": {
      "text/plain": [
       "142"
      ]
     },
     "execution_count": 62,
     "metadata": {},
     "output_type": "execute_result"
    }
   ],
   "source": [
    "bt3[bt3['HR']>=40]['playerID'].nunique()"
   ]
  },
  {
   "cell_type": "markdown",
   "metadata": {},
   "source": [
    "4)\tHow many players have hit more than 600 HRs for their career? (Dataframe)\n"
   ]
  },
  {
   "cell_type": "code",
   "execution_count": 63,
   "metadata": {},
   "outputs": [
    {
     "data": {
      "text/html": [
       "<div>\n",
       "<style>\n",
       "    .dataframe thead tr:only-child th {\n",
       "        text-align: right;\n",
       "    }\n",
       "\n",
       "    .dataframe thead th {\n",
       "        text-align: left;\n",
       "    }\n",
       "\n",
       "    .dataframe tbody tr th {\n",
       "        vertical-align: top;\n",
       "    }\n",
       "</style>\n",
       "<table border=\"1\" class=\"dataframe\">\n",
       "  <thead>\n",
       "    <tr style=\"text-align: right;\">\n",
       "      <th></th>\n",
       "      <th>HR</th>\n",
       "    </tr>\n",
       "    <tr>\n",
       "      <th>playerID</th>\n",
       "      <th></th>\n",
       "    </tr>\n",
       "  </thead>\n",
       "  <tbody>\n",
       "    <tr>\n",
       "      <th>aaronha01</th>\n",
       "      <td>755</td>\n",
       "    </tr>\n",
       "    <tr>\n",
       "      <th>bondsba01</th>\n",
       "      <td>762</td>\n",
       "    </tr>\n",
       "    <tr>\n",
       "      <th>griffke02</th>\n",
       "      <td>630</td>\n",
       "    </tr>\n",
       "    <tr>\n",
       "      <th>mayswi01</th>\n",
       "      <td>660</td>\n",
       "    </tr>\n",
       "    <tr>\n",
       "      <th>rodrial01</th>\n",
       "      <td>696</td>\n",
       "    </tr>\n",
       "    <tr>\n",
       "      <th>ruthba01</th>\n",
       "      <td>714</td>\n",
       "    </tr>\n",
       "    <tr>\n",
       "      <th>sosasa01</th>\n",
       "      <td>609</td>\n",
       "    </tr>\n",
       "    <tr>\n",
       "      <th>thomeji01</th>\n",
       "      <td>612</td>\n",
       "    </tr>\n",
       "  </tbody>\n",
       "</table>\n",
       "</div>"
      ],
      "text/plain": [
       "            HR\n",
       "playerID      \n",
       "aaronha01  755\n",
       "bondsba01  762\n",
       "griffke02  630\n",
       "mayswi01   660\n",
       "rodrial01  696\n",
       "ruthba01   714\n",
       "sosasa01   609\n",
       "thomeji01  612"
      ]
     },
     "execution_count": 63,
     "metadata": {},
     "output_type": "execute_result"
    }
   ],
   "source": [
    "bt4 = bt.groupby('playerID').agg({'HR':sum})\n",
    "bt4[bt4['HR']>600] \n",
    "\n",
    "#bt1 = bt.groupby('playerID')[['HR']].sum()\n",
    "#bt1[bt1['HR']>600].count()   \n",
    "#The above are codes for Number not dataframe \n",
    "#add one more [] on HR made HR as a column name as the new chart"
   ]
  },
  {
   "cell_type": "markdown",
   "metadata": {},
   "source": [
    "5) How many players have hit 40 2Bs, 10 3Bs, 200 Hits, and 30 HRs (inclusive) in one season? (Number Only)\n"
   ]
  },
  {
   "cell_type": "code",
   "execution_count": 64,
   "metadata": {
    "collapsed": true
   },
   "outputs": [],
   "source": [
    "bt5=bt.groupby(['playerID','yearID'],as_index=False).agg({'2B':sum,'3B':sum,'H':sum,'HR':sum})\n",
    "###bt[(bt['2B']==40)&(bt['3B']==10)&(bt.H==200)&(bt.HR==30)]['playerID'].count()\n",
    "#### conditions ---add ( ) "
   ]
  },
  {
   "cell_type": "code",
   "execution_count": 65,
   "metadata": {},
   "outputs": [
    {
     "data": {
      "text/plain": [
       "11"
      ]
     },
     "execution_count": 65,
     "metadata": {},
     "output_type": "execute_result"
    }
   ],
   "source": [
    "bt5[(bt5['2B']>=40)&(bt5['3B']>=10)&(bt5['H']>=200)&(bt5['HR']>=30)]['playerID'].nunique()"
   ]
  },
  {
   "cell_type": "markdown",
   "metadata": {},
   "source": [
    "6) How many players have had 100 or more SBs in a season? (Dataframe)\n"
   ]
  },
  {
   "cell_type": "code",
   "execution_count": 66,
   "metadata": {},
   "outputs": [
    {
     "data": {
      "text/html": [
       "<div>\n",
       "<style>\n",
       "    .dataframe thead tr:only-child th {\n",
       "        text-align: right;\n",
       "    }\n",
       "\n",
       "    .dataframe thead th {\n",
       "        text-align: left;\n",
       "    }\n",
       "\n",
       "    .dataframe tbody tr th {\n",
       "        vertical-align: top;\n",
       "    }\n",
       "</style>\n",
       "<table border=\"1\" class=\"dataframe\">\n",
       "  <thead>\n",
       "    <tr style=\"text-align: right;\">\n",
       "      <th></th>\n",
       "      <th>playerID</th>\n",
       "      <th>yearID</th>\n",
       "      <th>SB</th>\n",
       "    </tr>\n",
       "  </thead>\n",
       "  <tbody>\n",
       "    <tr>\n",
       "      <th>9713</th>\n",
       "      <td>brocklo01</td>\n",
       "      <td>1974</td>\n",
       "      <td>118.0</td>\n",
       "    </tr>\n",
       "    <tr>\n",
       "      <th>10331</th>\n",
       "      <td>brownpe01</td>\n",
       "      <td>1887</td>\n",
       "      <td>103.0</td>\n",
       "    </tr>\n",
       "    <tr>\n",
       "      <th>10364</th>\n",
       "      <td>brownto01</td>\n",
       "      <td>1891</td>\n",
       "      <td>106.0</td>\n",
       "    </tr>\n",
       "    <tr>\n",
       "      <th>16351</th>\n",
       "      <td>colemvi01</td>\n",
       "      <td>1985</td>\n",
       "      <td>110.0</td>\n",
       "    </tr>\n",
       "    <tr>\n",
       "      <th>16352</th>\n",
       "      <td>colemvi01</td>\n",
       "      <td>1986</td>\n",
       "      <td>107.0</td>\n",
       "    </tr>\n",
       "    <tr>\n",
       "      <th>16353</th>\n",
       "      <td>colemvi01</td>\n",
       "      <td>1987</td>\n",
       "      <td>109.0</td>\n",
       "    </tr>\n",
       "    <tr>\n",
       "      <th>16703</th>\n",
       "      <td>comisch01</td>\n",
       "      <td>1887</td>\n",
       "      <td>117.0</td>\n",
       "    </tr>\n",
       "    <tr>\n",
       "      <th>27187</th>\n",
       "      <td>fogarji01</td>\n",
       "      <td>1887</td>\n",
       "      <td>102.0</td>\n",
       "    </tr>\n",
       "    <tr>\n",
       "      <th>34649</th>\n",
       "      <td>hamilbi01</td>\n",
       "      <td>1889</td>\n",
       "      <td>111.0</td>\n",
       "    </tr>\n",
       "    <tr>\n",
       "      <th>34650</th>\n",
       "      <td>hamilbi01</td>\n",
       "      <td>1890</td>\n",
       "      <td>102.0</td>\n",
       "    </tr>\n",
       "    <tr>\n",
       "      <th>34651</th>\n",
       "      <td>hamilbi01</td>\n",
       "      <td>1891</td>\n",
       "      <td>111.0</td>\n",
       "    </tr>\n",
       "    <tr>\n",
       "      <th>37057</th>\n",
       "      <td>henderi01</td>\n",
       "      <td>1980</td>\n",
       "      <td>100.0</td>\n",
       "    </tr>\n",
       "    <tr>\n",
       "      <th>37059</th>\n",
       "      <td>henderi01</td>\n",
       "      <td>1982</td>\n",
       "      <td>130.0</td>\n",
       "    </tr>\n",
       "    <tr>\n",
       "      <th>37060</th>\n",
       "      <td>henderi01</td>\n",
       "      <td>1983</td>\n",
       "      <td>108.0</td>\n",
       "    </tr>\n",
       "    <tr>\n",
       "      <th>48268</th>\n",
       "      <td>lathaar01</td>\n",
       "      <td>1887</td>\n",
       "      <td>129.0</td>\n",
       "    </tr>\n",
       "    <tr>\n",
       "      <th>48269</th>\n",
       "      <td>lathaar01</td>\n",
       "      <td>1888</td>\n",
       "      <td>109.0</td>\n",
       "    </tr>\n",
       "    <tr>\n",
       "      <th>62362</th>\n",
       "      <td>nicolhu01</td>\n",
       "      <td>1887</td>\n",
       "      <td>138.0</td>\n",
       "    </tr>\n",
       "    <tr>\n",
       "      <th>62363</th>\n",
       "      <td>nicolhu01</td>\n",
       "      <td>1888</td>\n",
       "      <td>103.0</td>\n",
       "    </tr>\n",
       "    <tr>\n",
       "      <th>89859</th>\n",
       "      <td>wardjo01</td>\n",
       "      <td>1887</td>\n",
       "      <td>111.0</td>\n",
       "    </tr>\n",
       "    <tr>\n",
       "      <th>92606</th>\n",
       "      <td>willsma01</td>\n",
       "      <td>1962</td>\n",
       "      <td>104.0</td>\n",
       "    </tr>\n",
       "  </tbody>\n",
       "</table>\n",
       "</div>"
      ],
      "text/plain": [
       "        playerID  yearID     SB\n",
       "9713   brocklo01    1974  118.0\n",
       "10331  brownpe01    1887  103.0\n",
       "10364  brownto01    1891  106.0\n",
       "16351  colemvi01    1985  110.0\n",
       "16352  colemvi01    1986  107.0\n",
       "16353  colemvi01    1987  109.0\n",
       "16703  comisch01    1887  117.0\n",
       "27187  fogarji01    1887  102.0\n",
       "34649  hamilbi01    1889  111.0\n",
       "34650  hamilbi01    1890  102.0\n",
       "34651  hamilbi01    1891  111.0\n",
       "37057  henderi01    1980  100.0\n",
       "37059  henderi01    1982  130.0\n",
       "37060  henderi01    1983  108.0\n",
       "48268  lathaar01    1887  129.0\n",
       "48269  lathaar01    1888  109.0\n",
       "62362  nicolhu01    1887  138.0\n",
       "62363  nicolhu01    1888  103.0\n",
       "89859   wardjo01    1887  111.0\n",
       "92606  willsma01    1962  104.0"
      ]
     },
     "execution_count": 66,
     "metadata": {},
     "output_type": "execute_result"
    }
   ],
   "source": [
    "bt6=bt.groupby(['playerID','yearID'],as_index=False).agg({'SB':sum}) \n",
    "bt6[(bt6['SB']>=100)]\n",
    "\n",
    "##bt[bt['SB']>=100]['playerID'].count()\n"
   ]
  },
  {
   "cell_type": "markdown",
   "metadata": {},
   "source": [
    "7)How many players in the 1960s have hit more than 200 HRs? (Dataframe)"
   ]
  },
  {
   "cell_type": "code",
   "execution_count": 67,
   "metadata": {},
   "outputs": [
    {
     "data": {
      "text/html": [
       "<div>\n",
       "<style>\n",
       "    .dataframe thead tr:only-child th {\n",
       "        text-align: right;\n",
       "    }\n",
       "\n",
       "    .dataframe thead th {\n",
       "        text-align: left;\n",
       "    }\n",
       "\n",
       "    .dataframe tbody tr th {\n",
       "        vertical-align: top;\n",
       "    }\n",
       "</style>\n",
       "<table border=\"1\" class=\"dataframe\">\n",
       "  <thead>\n",
       "    <tr style=\"text-align: right;\">\n",
       "      <th></th>\n",
       "      <th>HR</th>\n",
       "    </tr>\n",
       "    <tr>\n",
       "      <th>playerID</th>\n",
       "      <th></th>\n",
       "    </tr>\n",
       "  </thead>\n",
       "  <tbody>\n",
       "    <tr>\n",
       "      <th>aaronha01</th>\n",
       "      <td>375</td>\n",
       "    </tr>\n",
       "    <tr>\n",
       "      <th>allisbo01</th>\n",
       "      <td>225</td>\n",
       "    </tr>\n",
       "    <tr>\n",
       "      <th>bankser01</th>\n",
       "      <td>269</td>\n",
       "    </tr>\n",
       "    <tr>\n",
       "      <th>cashno01</th>\n",
       "      <td>278</td>\n",
       "    </tr>\n",
       "    <tr>\n",
       "      <th>cepedor01</th>\n",
       "      <td>254</td>\n",
       "    </tr>\n",
       "    <tr>\n",
       "      <th>colavro01</th>\n",
       "      <td>245</td>\n",
       "    </tr>\n",
       "    <tr>\n",
       "      <th>howarfr01</th>\n",
       "      <td>288</td>\n",
       "    </tr>\n",
       "    <tr>\n",
       "      <th>kalinal01</th>\n",
       "      <td>210</td>\n",
       "    </tr>\n",
       "    <tr>\n",
       "      <th>killeha01</th>\n",
       "      <td>393</td>\n",
       "    </tr>\n",
       "    <tr>\n",
       "      <th>mantlmi01</th>\n",
       "      <td>256</td>\n",
       "    </tr>\n",
       "    <tr>\n",
       "      <th>marisro01</th>\n",
       "      <td>217</td>\n",
       "    </tr>\n",
       "    <tr>\n",
       "      <th>matheed01</th>\n",
       "      <td>213</td>\n",
       "    </tr>\n",
       "    <tr>\n",
       "      <th>mayswi01</th>\n",
       "      <td>350</td>\n",
       "    </tr>\n",
       "    <tr>\n",
       "      <th>mccovwi01</th>\n",
       "      <td>300</td>\n",
       "    </tr>\n",
       "    <tr>\n",
       "      <th>powelbo01</th>\n",
       "      <td>202</td>\n",
       "    </tr>\n",
       "    <tr>\n",
       "      <th>robinfr02</th>\n",
       "      <td>316</td>\n",
       "    </tr>\n",
       "    <tr>\n",
       "      <th>santoro01</th>\n",
       "      <td>253</td>\n",
       "    </tr>\n",
       "    <tr>\n",
       "      <th>willibi01</th>\n",
       "      <td>249</td>\n",
       "    </tr>\n",
       "    <tr>\n",
       "      <th>yastrca01</th>\n",
       "      <td>202</td>\n",
       "    </tr>\n",
       "  </tbody>\n",
       "</table>\n",
       "</div>"
      ],
      "text/plain": [
       "            HR\n",
       "playerID      \n",
       "aaronha01  375\n",
       "allisbo01  225\n",
       "bankser01  269\n",
       "cashno01   278\n",
       "cepedor01  254\n",
       "colavro01  245\n",
       "howarfr01  288\n",
       "kalinal01  210\n",
       "killeha01  393\n",
       "mantlmi01  256\n",
       "marisro01  217\n",
       "matheed01  213\n",
       "mayswi01   350\n",
       "mccovwi01  300\n",
       "powelbo01  202\n",
       "robinfr02  316\n",
       "santoro01  253\n",
       "willibi01  249\n",
       "yastrca01  202"
      ]
     },
     "execution_count": 67,
     "metadata": {},
     "output_type": "execute_result"
    }
   ],
   "source": [
    "bt7=bt[(bt['yearID']>=1960)&(bt['yearID']<=1969)] \n",
    "### use & connect two (condition),rather than two [condition]\n",
    "bt7a=bt7.groupby(['playerID']).agg({'HR':sum})\n",
    "bt7a[(bt7a['HR']>=200)] \n",
    "#bt7=bt[(bt['yearID']>=1960)]&[(bt['yearID']<=1969)].groupby(['playerID']).agg({'HR':sum}) ----condition and groupby should be wirtten separately!  \n",
    "# outside the condition's () , it should have a [] #3bt[(bt['HR']>200)& (bt.yearID[1960:1969])]['playerID'].count()"
   ]
  },
  {
   "cell_type": "markdown",
   "metadata": {},
   "source": [
    "8) Who has hit the most HRs in history? (Dataframe)"
   ]
  },
  {
   "cell_type": "code",
   "execution_count": 68,
   "metadata": {
    "collapsed": true
   },
   "outputs": [],
   "source": [
    "bt8=bt.groupby(['playerID','nameFirst','nameLast'],as_index=False).agg({\"HR\": sum})\n",
    "### groupby for several attributes need removed more index, so as_index is needed!"
   ]
  },
  {
   "cell_type": "code",
   "execution_count": 14,
   "metadata": {},
   "outputs": [
    {
     "data": {
      "text/html": [
       "<div>\n",
       "<style>\n",
       "    .dataframe thead tr:only-child th {\n",
       "        text-align: right;\n",
       "    }\n",
       "\n",
       "    .dataframe thead th {\n",
       "        text-align: left;\n",
       "    }\n",
       "\n",
       "    .dataframe tbody tr th {\n",
       "        vertical-align: top;\n",
       "    }\n",
       "</style>\n",
       "<table border=\"1\" class=\"dataframe\">\n",
       "  <thead>\n",
       "    <tr style=\"text-align: right;\">\n",
       "      <th></th>\n",
       "      <th>playerID</th>\n",
       "      <th>nameFirst</th>\n",
       "      <th>nameLast</th>\n",
       "      <th>HR</th>\n",
       "    </tr>\n",
       "  </thead>\n",
       "  <tbody>\n",
       "    <tr>\n",
       "      <th>1542</th>\n",
       "      <td>bondsba01</td>\n",
       "      <td>Barry</td>\n",
       "      <td>Bonds</td>\n",
       "      <td>762</td>\n",
       "    </tr>\n",
       "  </tbody>\n",
       "</table>\n",
       "</div>"
      ],
      "text/plain": [
       "       playerID nameFirst nameLast   HR\n",
       "1542  bondsba01     Barry    Bonds  762"
      ]
     },
     "execution_count": 14,
     "metadata": {},
     "output_type": "execute_result"
    }
   ],
   "source": [
    "bt8[bt8['HR']==bt8['HR'].max()]"
   ]
  },
  {
   "cell_type": "markdown",
   "metadata": {},
   "source": [
    "9)\tWho had the most hits in the 1970s? (Dataframe)\n"
   ]
  },
  {
   "cell_type": "code",
   "execution_count": 15,
   "metadata": {},
   "outputs": [
    {
     "data": {
      "text/html": [
       "<div>\n",
       "<style>\n",
       "    .dataframe thead tr:only-child th {\n",
       "        text-align: right;\n",
       "    }\n",
       "\n",
       "    .dataframe thead th {\n",
       "        text-align: left;\n",
       "    }\n",
       "\n",
       "    .dataframe tbody tr th {\n",
       "        vertical-align: top;\n",
       "    }\n",
       "</style>\n",
       "<table border=\"1\" class=\"dataframe\">\n",
       "  <thead>\n",
       "    <tr style=\"text-align: right;\">\n",
       "      <th></th>\n",
       "      <th>playerID</th>\n",
       "      <th>nameFirst</th>\n",
       "      <th>nameLast</th>\n",
       "      <th>H</th>\n",
       "    </tr>\n",
       "  </thead>\n",
       "  <tbody>\n",
       "    <tr>\n",
       "      <th>1639</th>\n",
       "      <td>rosepe01</td>\n",
       "      <td>Pete</td>\n",
       "      <td>Rose</td>\n",
       "      <td>2045</td>\n",
       "    </tr>\n",
       "  </tbody>\n",
       "</table>\n",
       "</div>"
      ],
      "text/plain": [
       "      playerID nameFirst nameLast     H\n",
       "1639  rosepe01      Pete     Rose  2045"
      ]
     },
     "execution_count": 15,
     "metadata": {},
     "output_type": "execute_result"
    }
   ],
   "source": [
    "bt9=bt[(bt['yearID']>=1970)&(bt['yearID']<=1979)]\n",
    "bt9a=bt9.groupby(['playerID','nameFirst','nameLast'],as_index=False).agg({\"H\": sum})\n",
    "bt9a[bt9a['H']==bt9a['H'].max()]\n",
    "#bt9[(bt9['H']==bt9['H'].max())&(bt['yearID']>=1970)&(bt['yearID']<=1979)]\n",
    "# wrong，year‘s condition as a filter can not go after groupby since there is no yearid in bt9 chart anymor"
   ]
  },
  {
   "cell_type": "markdown",
   "metadata": {},
   "source": [
    "10)\tTop 5 highest OBP (on base percentage) with at least 500 PAs in 1977?  (Dataframe)\n"
   ]
  },
  {
   "cell_type": "code",
   "execution_count": 16,
   "metadata": {
    "collapsed": true
   },
   "outputs": [],
   "source": [
    "bt['PA']= bt['AB']+bt['BB']+bt['IBB']+bt['SH']+bt['SF']\n",
    "bt['OBP']= (bt['H']+bt['BB']+bt['IBB']+bt['SH']+bt['SF'])/bt['AB']\n",
    "#bt10=bt[(bt['yearID']==1977)&(bt['AB']+bt['BB']+bt['IBB']+bt['SH']+bt['SF'])>=500) long code is better to seperate"
   ]
  },
  {
   "cell_type": "code",
   "execution_count": 17,
   "metadata": {
    "collapsed": true
   },
   "outputs": [],
   "source": [
    "bt10= bt[(bt['yearID']==1977)&(bt['PA']>=500)]"
   ]
  },
  {
   "cell_type": "code",
   "execution_count": 18,
   "metadata": {
    "scrolled": true
   },
   "outputs": [
    {
     "data": {
      "text/html": [
       "<div>\n",
       "<style>\n",
       "    .dataframe thead tr:only-child th {\n",
       "        text-align: right;\n",
       "    }\n",
       "\n",
       "    .dataframe thead th {\n",
       "        text-align: left;\n",
       "    }\n",
       "\n",
       "    .dataframe tbody tr th {\n",
       "        vertical-align: top;\n",
       "    }\n",
       "</style>\n",
       "<table border=\"1\" class=\"dataframe\">\n",
       "  <thead>\n",
       "    <tr style=\"text-align: right;\">\n",
       "      <th></th>\n",
       "      <th>playerID</th>\n",
       "      <th>nameFirst</th>\n",
       "      <th>nameLast</th>\n",
       "      <th>birthYear</th>\n",
       "      <th>yearID</th>\n",
       "      <th>stint</th>\n",
       "      <th>teamID</th>\n",
       "      <th>lgID</th>\n",
       "      <th>G</th>\n",
       "      <th>AB</th>\n",
       "      <th>...</th>\n",
       "      <th>CS</th>\n",
       "      <th>BB</th>\n",
       "      <th>SO</th>\n",
       "      <th>IBB</th>\n",
       "      <th>HBP</th>\n",
       "      <th>SH</th>\n",
       "      <th>SF</th>\n",
       "      <th>GIDP</th>\n",
       "      <th>PA</th>\n",
       "      <th>OBP</th>\n",
       "    </tr>\n",
       "  </thead>\n",
       "  <tbody>\n",
       "    <tr>\n",
       "      <th>55273</th>\n",
       "      <td>singlke01</td>\n",
       "      <td>Ken</td>\n",
       "      <td>Singleton</td>\n",
       "      <td>1947</td>\n",
       "      <td>1977</td>\n",
       "      <td>1</td>\n",
       "      <td>BAL</td>\n",
       "      <td>AL</td>\n",
       "      <td>152</td>\n",
       "      <td>536</td>\n",
       "      <td>...</td>\n",
       "      <td>1.0</td>\n",
       "      <td>107</td>\n",
       "      <td>101.0</td>\n",
       "      <td>13.0</td>\n",
       "      <td>2.0</td>\n",
       "      <td>0.0</td>\n",
       "      <td>6.0</td>\n",
       "      <td>15.0</td>\n",
       "      <td>662.0</td>\n",
       "      <td>0.563433</td>\n",
       "    </tr>\n",
       "    <tr>\n",
       "      <th>55280</th>\n",
       "      <td>smithre06</td>\n",
       "      <td>Reggie</td>\n",
       "      <td>Smith</td>\n",
       "      <td>1945</td>\n",
       "      <td>1977</td>\n",
       "      <td>1</td>\n",
       "      <td>LAN</td>\n",
       "      <td>NL</td>\n",
       "      <td>148</td>\n",
       "      <td>488</td>\n",
       "      <td>...</td>\n",
       "      <td>5.0</td>\n",
       "      <td>104</td>\n",
       "      <td>76.0</td>\n",
       "      <td>11.0</td>\n",
       "      <td>3.0</td>\n",
       "      <td>1.0</td>\n",
       "      <td>7.0</td>\n",
       "      <td>5.0</td>\n",
       "      <td>611.0</td>\n",
       "      <td>0.559426</td>\n",
       "    </tr>\n",
       "    <tr>\n",
       "      <th>55329</th>\n",
       "      <td>tenacge01</td>\n",
       "      <td>Gene</td>\n",
       "      <td>Tenace</td>\n",
       "      <td>1946</td>\n",
       "      <td>1977</td>\n",
       "      <td>1</td>\n",
       "      <td>SDN</td>\n",
       "      <td>NL</td>\n",
       "      <td>147</td>\n",
       "      <td>437</td>\n",
       "      <td>...</td>\n",
       "      <td>3.0</td>\n",
       "      <td>125</td>\n",
       "      <td>119.0</td>\n",
       "      <td>10.0</td>\n",
       "      <td>13.0</td>\n",
       "      <td>2.0</td>\n",
       "      <td>4.0</td>\n",
       "      <td>5.0</td>\n",
       "      <td>578.0</td>\n",
       "      <td>0.556064</td>\n",
       "    </tr>\n",
       "    <tr>\n",
       "      <th>54820</th>\n",
       "      <td>hargrmi01</td>\n",
       "      <td>Mike</td>\n",
       "      <td>Hargrove</td>\n",
       "      <td>1949</td>\n",
       "      <td>1977</td>\n",
       "      <td>1</td>\n",
       "      <td>TEX</td>\n",
       "      <td>AL</td>\n",
       "      <td>153</td>\n",
       "      <td>525</td>\n",
       "      <td>...</td>\n",
       "      <td>5.0</td>\n",
       "      <td>103</td>\n",
       "      <td>59.0</td>\n",
       "      <td>7.0</td>\n",
       "      <td>6.0</td>\n",
       "      <td>8.0</td>\n",
       "      <td>6.0</td>\n",
       "      <td>13.0</td>\n",
       "      <td>649.0</td>\n",
       "      <td>0.540952</td>\n",
       "    </tr>\n",
       "    <tr>\n",
       "      <th>54603</th>\n",
       "      <td>carewro01</td>\n",
       "      <td>Rod</td>\n",
       "      <td>Carew</td>\n",
       "      <td>1945</td>\n",
       "      <td>1977</td>\n",
       "      <td>1</td>\n",
       "      <td>MIN</td>\n",
       "      <td>AL</td>\n",
       "      <td>155</td>\n",
       "      <td>616</td>\n",
       "      <td>...</td>\n",
       "      <td>13.0</td>\n",
       "      <td>69</td>\n",
       "      <td>55.0</td>\n",
       "      <td>15.0</td>\n",
       "      <td>3.0</td>\n",
       "      <td>1.0</td>\n",
       "      <td>5.0</td>\n",
       "      <td>6.0</td>\n",
       "      <td>706.0</td>\n",
       "      <td>0.534091</td>\n",
       "    </tr>\n",
       "  </tbody>\n",
       "</table>\n",
       "<p>5 rows × 27 columns</p>\n",
       "</div>"
      ],
      "text/plain": [
       "        playerID nameFirst   nameLast  birthYear  yearID  stint teamID lgID  \\\n",
       "55273  singlke01       Ken  Singleton       1947    1977      1    BAL   AL   \n",
       "55280  smithre06    Reggie      Smith       1945    1977      1    LAN   NL   \n",
       "55329  tenacge01      Gene     Tenace       1946    1977      1    SDN   NL   \n",
       "54820  hargrmi01      Mike   Hargrove       1949    1977      1    TEX   AL   \n",
       "54603  carewro01       Rod      Carew       1945    1977      1    MIN   AL   \n",
       "\n",
       "         G   AB    ...       CS   BB     SO   IBB   HBP   SH   SF  GIDP  \\\n",
       "55273  152  536    ...      1.0  107  101.0  13.0   2.0  0.0  6.0  15.0   \n",
       "55280  148  488    ...      5.0  104   76.0  11.0   3.0  1.0  7.0   5.0   \n",
       "55329  147  437    ...      3.0  125  119.0  10.0  13.0  2.0  4.0   5.0   \n",
       "54820  153  525    ...      5.0  103   59.0   7.0   6.0  8.0  6.0  13.0   \n",
       "54603  155  616    ...     13.0   69   55.0  15.0   3.0  1.0  5.0   6.0   \n",
       "\n",
       "          PA       OBP  \n",
       "55273  662.0  0.563433  \n",
       "55280  611.0  0.559426  \n",
       "55329  578.0  0.556064  \n",
       "54820  649.0  0.540952  \n",
       "54603  706.0  0.534091  \n",
       "\n",
       "[5 rows x 27 columns]"
      ]
     },
     "execution_count": 18,
     "metadata": {},
     "output_type": "execute_result"
    }
   ],
   "source": [
    "bt10.sort_values(['OBP'],ascending = False).head()\n",
    "## .sort_values----top n ...\n",
    "##Bank.groupby('ST').count().sort_values('Bank Name', ascending = False)\n",
    "##default heade()=head(5)"
   ]
  },
  {
   "cell_type": "markdown",
   "metadata": {},
   "source": [
    "11) Top 8 highest averages in 2013 with at least 300 PAs? (Dataframe)"
   ]
  },
  {
   "cell_type": "code",
   "execution_count": 19,
   "metadata": {
    "collapsed": true
   },
   "outputs": [],
   "source": [
    "bt['average']=bt['H']/bt['AB']  #batting average= Hits／At Bats\n",
    "bt['PA']= bt['AB']+bt['BB']+bt['IBB']+bt['SH']+bt['SF']"
   ]
  },
  {
   "cell_type": "code",
   "execution_count": 20,
   "metadata": {},
   "outputs": [
    {
     "data": {
      "text/html": [
       "<div>\n",
       "<style>\n",
       "    .dataframe thead tr:only-child th {\n",
       "        text-align: right;\n",
       "    }\n",
       "\n",
       "    .dataframe thead th {\n",
       "        text-align: left;\n",
       "    }\n",
       "\n",
       "    .dataframe tbody tr th {\n",
       "        vertical-align: top;\n",
       "    }\n",
       "</style>\n",
       "<table border=\"1\" class=\"dataframe\">\n",
       "  <thead>\n",
       "    <tr style=\"text-align: right;\">\n",
       "      <th></th>\n",
       "      <th>playerID</th>\n",
       "      <th>nameFirst</th>\n",
       "      <th>nameLast</th>\n",
       "      <th>birthYear</th>\n",
       "      <th>yearID</th>\n",
       "      <th>stint</th>\n",
       "      <th>teamID</th>\n",
       "      <th>lgID</th>\n",
       "      <th>G</th>\n",
       "      <th>AB</th>\n",
       "      <th>...</th>\n",
       "      <th>BB</th>\n",
       "      <th>SO</th>\n",
       "      <th>IBB</th>\n",
       "      <th>HBP</th>\n",
       "      <th>SH</th>\n",
       "      <th>SF</th>\n",
       "      <th>GIDP</th>\n",
       "      <th>PA</th>\n",
       "      <th>OBP</th>\n",
       "      <th>average</th>\n",
       "    </tr>\n",
       "  </thead>\n",
       "  <tbody>\n",
       "    <tr>\n",
       "      <th>97188</th>\n",
       "      <td>cabremi01</td>\n",
       "      <td>Miguel</td>\n",
       "      <td>Cabrera</td>\n",
       "      <td>1983</td>\n",
       "      <td>2013</td>\n",
       "      <td>1</td>\n",
       "      <td>DET</td>\n",
       "      <td>AL</td>\n",
       "      <td>148</td>\n",
       "      <td>555</td>\n",
       "      <td>...</td>\n",
       "      <td>90</td>\n",
       "      <td>94.0</td>\n",
       "      <td>19.0</td>\n",
       "      <td>5.0</td>\n",
       "      <td>0.0</td>\n",
       "      <td>2.0</td>\n",
       "      <td>19.0</td>\n",
       "      <td>666.0</td>\n",
       "      <td>0.547748</td>\n",
       "      <td>0.347748</td>\n",
       "    </tr>\n",
       "    <tr>\n",
       "      <th>98062</th>\n",
       "      <td>ramirha01</td>\n",
       "      <td>Hanley</td>\n",
       "      <td>Ramirez</td>\n",
       "      <td>1983</td>\n",
       "      <td>2013</td>\n",
       "      <td>1</td>\n",
       "      <td>LAN</td>\n",
       "      <td>NL</td>\n",
       "      <td>86</td>\n",
       "      <td>304</td>\n",
       "      <td>...</td>\n",
       "      <td>27</td>\n",
       "      <td>52.0</td>\n",
       "      <td>3.0</td>\n",
       "      <td>3.0</td>\n",
       "      <td>0.0</td>\n",
       "      <td>2.0</td>\n",
       "      <td>5.0</td>\n",
       "      <td>336.0</td>\n",
       "      <td>0.450658</td>\n",
       "      <td>0.345395</td>\n",
       "    </tr>\n",
       "    <tr>\n",
       "      <th>97300</th>\n",
       "      <td>cuddymi01</td>\n",
       "      <td>Michael</td>\n",
       "      <td>Cuddyer</td>\n",
       "      <td>1979</td>\n",
       "      <td>2013</td>\n",
       "      <td>1</td>\n",
       "      <td>COL</td>\n",
       "      <td>NL</td>\n",
       "      <td>130</td>\n",
       "      <td>489</td>\n",
       "      <td>...</td>\n",
       "      <td>46</td>\n",
       "      <td>100.0</td>\n",
       "      <td>5.0</td>\n",
       "      <td>2.0</td>\n",
       "      <td>0.0</td>\n",
       "      <td>3.0</td>\n",
       "      <td>13.0</td>\n",
       "      <td>543.0</td>\n",
       "      <td>0.441718</td>\n",
       "      <td>0.331288</td>\n",
       "    </tr>\n",
       "    <tr>\n",
       "      <th>97825</th>\n",
       "      <td>mauerjo01</td>\n",
       "      <td>Joe</td>\n",
       "      <td>Mauer</td>\n",
       "      <td>1983</td>\n",
       "      <td>2013</td>\n",
       "      <td>1</td>\n",
       "      <td>MIN</td>\n",
       "      <td>AL</td>\n",
       "      <td>113</td>\n",
       "      <td>445</td>\n",
       "      <td>...</td>\n",
       "      <td>61</td>\n",
       "      <td>89.0</td>\n",
       "      <td>7.0</td>\n",
       "      <td>0.0</td>\n",
       "      <td>0.0</td>\n",
       "      <td>2.0</td>\n",
       "      <td>7.0</td>\n",
       "      <td>515.0</td>\n",
       "      <td>0.480899</td>\n",
       "      <td>0.323596</td>\n",
       "    </tr>\n",
       "    <tr>\n",
       "      <th>98293</th>\n",
       "      <td>troutmi01</td>\n",
       "      <td>Mike</td>\n",
       "      <td>Trout</td>\n",
       "      <td>1991</td>\n",
       "      <td>2013</td>\n",
       "      <td>1</td>\n",
       "      <td>LAA</td>\n",
       "      <td>AL</td>\n",
       "      <td>157</td>\n",
       "      <td>589</td>\n",
       "      <td>...</td>\n",
       "      <td>110</td>\n",
       "      <td>136.0</td>\n",
       "      <td>10.0</td>\n",
       "      <td>9.0</td>\n",
       "      <td>0.0</td>\n",
       "      <td>8.0</td>\n",
       "      <td>8.0</td>\n",
       "      <td>717.0</td>\n",
       "      <td>0.539898</td>\n",
       "      <td>0.322581</td>\n",
       "    </tr>\n",
       "    <tr>\n",
       "      <th>97651</th>\n",
       "      <td>johnsch05</td>\n",
       "      <td>Chris</td>\n",
       "      <td>Johnson</td>\n",
       "      <td>1984</td>\n",
       "      <td>2013</td>\n",
       "      <td>1</td>\n",
       "      <td>ATL</td>\n",
       "      <td>NL</td>\n",
       "      <td>142</td>\n",
       "      <td>514</td>\n",
       "      <td>...</td>\n",
       "      <td>29</td>\n",
       "      <td>116.0</td>\n",
       "      <td>5.0</td>\n",
       "      <td>2.0</td>\n",
       "      <td>0.0</td>\n",
       "      <td>2.0</td>\n",
       "      <td>20.0</td>\n",
       "      <td>550.0</td>\n",
       "      <td>0.391051</td>\n",
       "      <td>0.321012</td>\n",
       "    </tr>\n",
       "    <tr>\n",
       "      <th>97437</th>\n",
       "      <td>freemfr01</td>\n",
       "      <td>Freddie</td>\n",
       "      <td>Freeman</td>\n",
       "      <td>1989</td>\n",
       "      <td>2013</td>\n",
       "      <td>1</td>\n",
       "      <td>ATL</td>\n",
       "      <td>NL</td>\n",
       "      <td>147</td>\n",
       "      <td>551</td>\n",
       "      <td>...</td>\n",
       "      <td>66</td>\n",
       "      <td>121.0</td>\n",
       "      <td>10.0</td>\n",
       "      <td>7.0</td>\n",
       "      <td>0.0</td>\n",
       "      <td>5.0</td>\n",
       "      <td>10.0</td>\n",
       "      <td>632.0</td>\n",
       "      <td>0.466425</td>\n",
       "      <td>0.319419</td>\n",
       "    </tr>\n",
       "    <tr>\n",
       "      <th>98043</th>\n",
       "      <td>puigya01</td>\n",
       "      <td>Yasiel</td>\n",
       "      <td>Puig</td>\n",
       "      <td>1990</td>\n",
       "      <td>2013</td>\n",
       "      <td>1</td>\n",
       "      <td>LAN</td>\n",
       "      <td>NL</td>\n",
       "      <td>104</td>\n",
       "      <td>382</td>\n",
       "      <td>...</td>\n",
       "      <td>36</td>\n",
       "      <td>97.0</td>\n",
       "      <td>6.0</td>\n",
       "      <td>11.0</td>\n",
       "      <td>0.0</td>\n",
       "      <td>3.0</td>\n",
       "      <td>6.0</td>\n",
       "      <td>427.0</td>\n",
       "      <td>0.437173</td>\n",
       "      <td>0.319372</td>\n",
       "    </tr>\n",
       "  </tbody>\n",
       "</table>\n",
       "<p>8 rows × 28 columns</p>\n",
       "</div>"
      ],
      "text/plain": [
       "        playerID nameFirst nameLast  birthYear  yearID  stint teamID lgID  \\\n",
       "97188  cabremi01    Miguel  Cabrera       1983    2013      1    DET   AL   \n",
       "98062  ramirha01    Hanley  Ramirez       1983    2013      1    LAN   NL   \n",
       "97300  cuddymi01   Michael  Cuddyer       1979    2013      1    COL   NL   \n",
       "97825  mauerjo01       Joe    Mauer       1983    2013      1    MIN   AL   \n",
       "98293  troutmi01      Mike    Trout       1991    2013      1    LAA   AL   \n",
       "97651  johnsch05     Chris  Johnson       1984    2013      1    ATL   NL   \n",
       "97437  freemfr01   Freddie  Freeman       1989    2013      1    ATL   NL   \n",
       "98043   puigya01    Yasiel     Puig       1990    2013      1    LAN   NL   \n",
       "\n",
       "         G   AB    ...      BB     SO   IBB   HBP   SH   SF  GIDP     PA  \\\n",
       "97188  148  555    ...      90   94.0  19.0   5.0  0.0  2.0  19.0  666.0   \n",
       "98062   86  304    ...      27   52.0   3.0   3.0  0.0  2.0   5.0  336.0   \n",
       "97300  130  489    ...      46  100.0   5.0   2.0  0.0  3.0  13.0  543.0   \n",
       "97825  113  445    ...      61   89.0   7.0   0.0  0.0  2.0   7.0  515.0   \n",
       "98293  157  589    ...     110  136.0  10.0   9.0  0.0  8.0   8.0  717.0   \n",
       "97651  142  514    ...      29  116.0   5.0   2.0  0.0  2.0  20.0  550.0   \n",
       "97437  147  551    ...      66  121.0  10.0   7.0  0.0  5.0  10.0  632.0   \n",
       "98043  104  382    ...      36   97.0   6.0  11.0  0.0  3.0   6.0  427.0   \n",
       "\n",
       "            OBP   average  \n",
       "97188  0.547748  0.347748  \n",
       "98062  0.450658  0.345395  \n",
       "97300  0.441718  0.331288  \n",
       "97825  0.480899  0.323596  \n",
       "98293  0.539898  0.322581  \n",
       "97651  0.391051  0.321012  \n",
       "97437  0.466425  0.319419  \n",
       "98043  0.437173  0.319372  \n",
       "\n",
       "[8 rows x 28 columns]"
      ]
     },
     "execution_count": 20,
     "metadata": {},
     "output_type": "execute_result"
    }
   ],
   "source": [
    "bt11=bt[(bt['PA']>=300)&(bt['yearID']==2013)]\n",
    "bt11.sort_values(['average'],ascending=False).head(8)"
   ]
  },
  {
   "cell_type": "markdown",
   "metadata": {},
   "source": [
    "12)Leaders in hits from 1940 up to and including 1949. (Dataframe)"
   ]
  },
  {
   "cell_type": "code",
   "execution_count": 55,
   "metadata": {
    "collapsed": true
   },
   "outputs": [],
   "source": [
    "bt12=bt[(bt['yearID']>=1940)& (bt['yearID']<=1949)].groupby(['yearID','playerID'],as_index=False).agg({'H':sum})"
   ]
  },
  {
   "cell_type": "code",
   "execution_count": 54,
   "metadata": {},
   "outputs": [
    {
     "data": {
      "text/html": [
       "<div>\n",
       "<style>\n",
       "    .dataframe thead tr:only-child th {\n",
       "        text-align: right;\n",
       "    }\n",
       "\n",
       "    .dataframe thead th {\n",
       "        text-align: left;\n",
       "    }\n",
       "\n",
       "    .dataframe tbody tr th {\n",
       "        vertical-align: top;\n",
       "    }\n",
       "</style>\n",
       "<table border=\"1\" class=\"dataframe\">\n",
       "  <thead>\n",
       "    <tr style=\"text-align: right;\">\n",
       "      <th></th>\n",
       "      <th></th>\n",
       "      <th>yearID</th>\n",
       "      <th>playerID</th>\n",
       "      <th>H</th>\n",
       "    </tr>\n",
       "    <tr>\n",
       "      <th>yearID</th>\n",
       "      <th></th>\n",
       "      <th></th>\n",
       "      <th></th>\n",
       "      <th></th>\n",
       "    </tr>\n",
       "  </thead>\n",
       "  <tbody>\n",
       "    <tr>\n",
       "      <th rowspan=\"3\" valign=\"top\">1940</th>\n",
       "      <th>84</th>\n",
       "      <td>1940</td>\n",
       "      <td>cramedo01</td>\n",
       "      <td>200</td>\n",
       "    </tr>\n",
       "    <tr>\n",
       "      <th>305</th>\n",
       "      <td>1940</td>\n",
       "      <td>mccosba01</td>\n",
       "      <td>200</td>\n",
       "    </tr>\n",
       "    <tr>\n",
       "      <th>377</th>\n",
       "      <td>1940</td>\n",
       "      <td>radclri01</td>\n",
       "      <td>200</td>\n",
       "    </tr>\n",
       "    <tr>\n",
       "      <th>1941</th>\n",
       "      <th>1003</th>\n",
       "      <td>1941</td>\n",
       "      <td>travice01</td>\n",
       "      <td>218</td>\n",
       "    </tr>\n",
       "    <tr>\n",
       "      <th>1942</th>\n",
       "      <th>1424</th>\n",
       "      <td>1942</td>\n",
       "      <td>peskyjo01</td>\n",
       "      <td>205</td>\n",
       "    </tr>\n",
       "    <tr>\n",
       "      <th>1943</th>\n",
       "      <th>1909</th>\n",
       "      <td>1943</td>\n",
       "      <td>musiast01</td>\n",
       "      <td>220</td>\n",
       "    </tr>\n",
       "    <tr>\n",
       "      <th>1944</th>\n",
       "      <th>2560</th>\n",
       "      <td>1944</td>\n",
       "      <td>stirnsn01</td>\n",
       "      <td>205</td>\n",
       "    </tr>\n",
       "    <tr>\n",
       "      <th>1945</th>\n",
       "      <th>2868</th>\n",
       "      <td>1945</td>\n",
       "      <td>holmeto01</td>\n",
       "      <td>224</td>\n",
       "    </tr>\n",
       "    <tr>\n",
       "      <th>1946</th>\n",
       "      <th>3599</th>\n",
       "      <td>1946</td>\n",
       "      <td>musiast01</td>\n",
       "      <td>228</td>\n",
       "    </tr>\n",
       "    <tr>\n",
       "      <th>1947</th>\n",
       "      <th>4192</th>\n",
       "      <td>1947</td>\n",
       "      <td>peskyjo01</td>\n",
       "      <td>207</td>\n",
       "    </tr>\n",
       "    <tr>\n",
       "      <th>1948</th>\n",
       "      <th>4700</th>\n",
       "      <td>1948</td>\n",
       "      <td>musiast01</td>\n",
       "      <td>230</td>\n",
       "    </tr>\n",
       "    <tr>\n",
       "      <th>1949</th>\n",
       "      <th>5233</th>\n",
       "      <td>1949</td>\n",
       "      <td>musiast01</td>\n",
       "      <td>207</td>\n",
       "    </tr>\n",
       "  </tbody>\n",
       "</table>\n",
       "</div>"
      ],
      "text/plain": [
       "             yearID   playerID    H\n",
       "yearID                             \n",
       "1940   84      1940  cramedo01  200\n",
       "       305     1940  mccosba01  200\n",
       "       377     1940  radclri01  200\n",
       "1941   1003    1941  travice01  218\n",
       "1942   1424    1942  peskyjo01  205\n",
       "1943   1909    1943  musiast01  220\n",
       "1944   2560    1944  stirnsn01  205\n",
       "1945   2868    1945  holmeto01  224\n",
       "1946   3599    1946  musiast01  228\n",
       "1947   4192    1947  peskyjo01  207\n",
       "1948   4700    1948  musiast01  230\n",
       "1949   5233    1949  musiast01  207"
      ]
     },
     "execution_count": 54,
     "metadata": {},
     "output_type": "execute_result"
    }
   ],
   "source": [
    "bt12.groupby('yearID').apply(lambda t: t[t.H==t.H.max()])  # the maximum row in each group"
   ]
  },
  {
   "cell_type": "markdown",
   "metadata": {},
   "source": [
    "13) Who led MLB with the most hits the most times?  And how many times?  (Dataframe, Number)\n"
   ]
  },
  {
   "cell_type": "code",
   "execution_count": null,
   "metadata": {
    "collapsed": true
   },
   "outputs": [],
   "source": [
    "bt13=bt.groupby('yearID').apply(lambda t: t[t.H==t.H.max()])  # the maximum row in each group"
   ]
  },
  {
   "cell_type": "code",
   "execution_count": null,
   "metadata": {
    "collapsed": true
   },
   "outputs": [],
   "source": [
    "bt13a=bt13.groupby(['playerID','nameFirst','nameLast']).agg({'H':'count'})"
   ]
  },
  {
   "cell_type": "code",
   "execution_count": null,
   "metadata": {
    "collapsed": true
   },
   "outputs": [],
   "source": [
    "bt13a[bt13a.H=bt13a.H.max()]"
   ]
  },
  {
   "cell_type": "markdown",
   "metadata": {},
   "source": [
    "14) Which players have played the most games for their careers?  Top 5, descending by games played presented as a dataframe"
   ]
  },
  {
   "cell_type": "code",
   "execution_count": null,
   "metadata": {
    "collapsed": true
   },
   "outputs": [],
   "source": [
    "bt14=bt.groupby(['playerID','nameFirst','nameLast'],as_index=False).agg({\"G\": sum})"
   ]
  },
  {
   "cell_type": "code",
   "execution_count": null,
   "metadata": {},
   "outputs": [],
   "source": [
    "bt14.sort_values(['G'],ascending=False).head(5)"
   ]
  },
  {
   "cell_type": "markdown",
   "metadata": {},
   "source": [
    "15) How many players have had more than 3000 hits for their careers while also hitting 500 or more HRs?  Just a number is okay here"
   ]
  },
  {
   "cell_type": "code",
   "execution_count": 160,
   "metadata": {},
   "outputs": [
    {
     "data": {
      "text/plain": [
       "5"
      ]
     },
     "execution_count": 160,
     "metadata": {},
     "output_type": "execute_result"
    }
   ],
   "source": [
    "bt15 = bt.groupby('playerID').agg({'HR':sum,'H':sum})\n",
    "len(bt15[(bt15['H']>3000)&(bt15['HR']>=500)])\n",
    "## len:count row numbers"
   ]
  },
  {
   "cell_type": "markdown",
   "metadata": {},
   "source": [
    "16) How many HRs were hit during the entire 1988 season?  Just a number is okay here\n",
    "\n"
   ]
  },
  {
   "cell_type": "code",
   "execution_count": 161,
   "metadata": {},
   "outputs": [
    {
     "data": {
      "text/plain": [
       "3180"
      ]
     },
     "execution_count": 161,
     "metadata": {},
     "output_type": "execute_result"
    }
   ],
   "source": [
    "bt[bt['yearID']==1988]['HR'].sum()    ## the total HRs have been hit rather than the number of observations of HRs in 1988,so count() is wrong"
   ]
  },
  {
   "cell_type": "markdown",
   "metadata": {},
   "source": [
    "17) Please filter out and show me the top 3 average seasons by Wade Boggs during his career in seasons in which he had at least 500 ABs.  I would like a dataframe sorted by average."
   ]
  },
  {
   "cell_type": "code",
   "execution_count": 162,
   "metadata": {
    "collapsed": true
   },
   "outputs": [],
   "source": [
    "bt['average']=bt['H']/bt['AB']"
   ]
  },
  {
   "cell_type": "code",
   "execution_count": 163,
   "metadata": {
    "collapsed": true
   },
   "outputs": [],
   "source": [
    "bt17=bt.groupby(['yearID','playerID','nameFirst','nameLast'],as_index=False).agg({'AB':sum,'average':sum})"
   ]
  },
  {
   "cell_type": "code",
   "execution_count": 164,
   "metadata": {
    "collapsed": true
   },
   "outputs": [],
   "source": [
    "bt17a=bt17[(bt17['nameFirst']=='Wade')&(bt17['nameLast']=='Boggs')&(bt17['AB']>=500)]"
   ]
  },
  {
   "cell_type": "code",
   "execution_count": 165,
   "metadata": {
    "scrolled": true
   },
   "outputs": [
    {
     "data": {
      "text/html": [
       "<div>\n",
       "<style>\n",
       "    .dataframe thead tr:only-child th {\n",
       "        text-align: right;\n",
       "    }\n",
       "\n",
       "    .dataframe thead th {\n",
       "        text-align: left;\n",
       "    }\n",
       "\n",
       "    .dataframe tbody tr th {\n",
       "        vertical-align: top;\n",
       "    }\n",
       "</style>\n",
       "<table border=\"1\" class=\"dataframe\">\n",
       "  <thead>\n",
       "    <tr style=\"text-align: right;\">\n",
       "      <th></th>\n",
       "      <th>yearID</th>\n",
       "      <th>playerID</th>\n",
       "      <th>nameFirst</th>\n",
       "      <th>nameLast</th>\n",
       "      <th>AB</th>\n",
       "      <th>average</th>\n",
       "    </tr>\n",
       "  </thead>\n",
       "  <tbody>\n",
       "    <tr>\n",
       "      <th>57921</th>\n",
       "      <td>1985</td>\n",
       "      <td>boggswa01</td>\n",
       "      <td>Wade</td>\n",
       "      <td>Boggs</td>\n",
       "      <td>653</td>\n",
       "      <td>0.367534</td>\n",
       "    </tr>\n",
       "    <tr>\n",
       "      <th>60800</th>\n",
       "      <td>1988</td>\n",
       "      <td>boggswa01</td>\n",
       "      <td>Wade</td>\n",
       "      <td>Boggs</td>\n",
       "      <td>584</td>\n",
       "      <td>0.366438</td>\n",
       "    </tr>\n",
       "    <tr>\n",
       "      <th>59818</th>\n",
       "      <td>1987</td>\n",
       "      <td>boggswa01</td>\n",
       "      <td>Wade</td>\n",
       "      <td>Boggs</td>\n",
       "      <td>551</td>\n",
       "      <td>0.362976</td>\n",
       "    </tr>\n",
       "  </tbody>\n",
       "</table>\n",
       "</div>"
      ],
      "text/plain": [
       "       yearID   playerID nameFirst nameLast   AB   average\n",
       "57921    1985  boggswa01      Wade    Boggs  653  0.367534\n",
       "60800    1988  boggswa01      Wade    Boggs  584  0.366438\n",
       "59818    1987  boggswa01      Wade    Boggs  551  0.362976"
      ]
     },
     "execution_count": 165,
     "metadata": {},
     "output_type": "execute_result"
    }
   ],
   "source": [
    "bt17a.sort_values(['average'],ascending=False).head(3) ###in order to sort 'average',we have to add 'average' as a new column so we agg avergae in bt17 "
   ]
  },
  {
   "cell_type": "markdown",
   "metadata": {},
   "source": [
    "18) Please filter out the top OBPs for the 1995 season with at least 400 PAs, sorted by OBP.  I would like a dataframe for this"
   ]
  },
  {
   "cell_type": "code",
   "execution_count": 132,
   "metadata": {
    "collapsed": true
   },
   "outputs": [],
   "source": [
    "bt['OBP']= (bt['H']+bt['BB']+bt['IBB']+bt['SH']+bt['SF'])/bt['AB']"
   ]
  },
  {
   "cell_type": "code",
   "execution_count": 133,
   "metadata": {
    "collapsed": true
   },
   "outputs": [],
   "source": [
    "bt['PA']= bt['AB']+bt['BB']+bt['IBB']+bt['SH']+bt['SF']"
   ]
  },
  {
   "cell_type": "code",
   "execution_count": 134,
   "metadata": {
    "collapsed": true
   },
   "outputs": [],
   "source": [
    "bt18=bt.groupby(['yearID','playerID','nameFirst','nameLast'],as_index=False).agg({'PA':sum,'OBP':sum})"
   ]
  },
  {
   "cell_type": "code",
   "execution_count": 135,
   "metadata": {},
   "outputs": [
    {
     "data": {
      "text/html": [
       "<div>\n",
       "<style>\n",
       "    .dataframe thead tr:only-child th {\n",
       "        text-align: right;\n",
       "    }\n",
       "\n",
       "    .dataframe thead th {\n",
       "        text-align: left;\n",
       "    }\n",
       "\n",
       "    .dataframe tbody tr th {\n",
       "        vertical-align: top;\n",
       "    }\n",
       "</style>\n",
       "<table border=\"1\" class=\"dataframe\">\n",
       "  <thead>\n",
       "    <tr style=\"text-align: right;\">\n",
       "      <th></th>\n",
       "      <th>yearID</th>\n",
       "      <th>playerID</th>\n",
       "      <th>nameFirst</th>\n",
       "      <th>nameLast</th>\n",
       "      <th>PA</th>\n",
       "      <th>OBP</th>\n",
       "    </tr>\n",
       "  </thead>\n",
       "  <tbody>\n",
       "    <tr>\n",
       "      <th>68764</th>\n",
       "      <td>1995</td>\n",
       "      <td>seguida01</td>\n",
       "      <td>David</td>\n",
       "      <td>Segui</td>\n",
       "      <td>512.0</td>\n",
       "      <td>0.99113</td>\n",
       "    </tr>\n",
       "  </tbody>\n",
       "</table>\n",
       "</div>"
      ],
      "text/plain": [
       "       yearID   playerID nameFirst nameLast     PA      OBP\n",
       "68764    1995  seguida01     David    Segui  512.0  0.99113"
      ]
     },
     "execution_count": 135,
     "metadata": {},
     "output_type": "execute_result"
    }
   ],
   "source": [
    "bt18[(bt18['yearID']==1995)&(bt18['PA']>=500)].sort_values(['OBP'],ascending=False).head(1)"
   ]
  },
  {
   "cell_type": "markdown",
   "metadata": {},
   "source": [
    "19) Who had the most 3Bs (in total) in 1922, 1925, 1926, and 1928?  I would like a dataframe with just the leader"
   ]
  },
  {
   "cell_type": "code",
   "execution_count": 136,
   "metadata": {
    "collapsed": true
   },
   "outputs": [],
   "source": [
    "bt19=bt[bt['yearID'].isin([1922,1925,1926,1928])].groupby(['yearID','playerID','nameFirst','nameLast']).agg({'3B':sum})"
   ]
  },
  {
   "cell_type": "code",
   "execution_count": 137,
   "metadata": {
    "scrolled": true
   },
   "outputs": [
    {
     "data": {
      "text/html": [
       "<div>\n",
       "<style>\n",
       "    .dataframe thead tr:only-child th {\n",
       "        text-align: right;\n",
       "    }\n",
       "\n",
       "    .dataframe thead th {\n",
       "        text-align: left;\n",
       "    }\n",
       "\n",
       "    .dataframe tbody tr th {\n",
       "        vertical-align: top;\n",
       "    }\n",
       "</style>\n",
       "<table border=\"1\" class=\"dataframe\">\n",
       "  <thead>\n",
       "    <tr style=\"text-align: right;\">\n",
       "      <th></th>\n",
       "      <th>yearID</th>\n",
       "      <th>3B</th>\n",
       "      <th>playerID</th>\n",
       "      <th>nameFirst</th>\n",
       "      <th>nameLast</th>\n",
       "    </tr>\n",
       "  </thead>\n",
       "  <tbody>\n",
       "    <tr>\n",
       "      <th>0</th>\n",
       "      <td>1922</td>\n",
       "      <td>22</td>\n",
       "      <td>daubeja01</td>\n",
       "      <td>Jake</td>\n",
       "      <td>Daubert</td>\n",
       "    </tr>\n",
       "    <tr>\n",
       "      <th>1</th>\n",
       "      <td>1925</td>\n",
       "      <td>26</td>\n",
       "      <td>cuyleki01</td>\n",
       "      <td>Kiki</td>\n",
       "      <td>Cuyler</td>\n",
       "    </tr>\n",
       "    <tr>\n",
       "      <th>2</th>\n",
       "      <td>1926</td>\n",
       "      <td>22</td>\n",
       "      <td>wanerpa01</td>\n",
       "      <td>Paul</td>\n",
       "      <td>Waner</td>\n",
       "    </tr>\n",
       "    <tr>\n",
       "      <th>3</th>\n",
       "      <td>1928</td>\n",
       "      <td>21</td>\n",
       "      <td>combsea01</td>\n",
       "      <td>Earle</td>\n",
       "      <td>Combs</td>\n",
       "    </tr>\n",
       "  </tbody>\n",
       "</table>\n",
       "</div>"
      ],
      "text/plain": [
       "   yearID  3B   playerID nameFirst nameLast\n",
       "0    1922  22  daubeja01      Jake  Daubert\n",
       "1    1925  26  cuyleki01      Kiki   Cuyler\n",
       "2    1926  22  wanerpa01      Paul    Waner\n",
       "3    1928  21  combsea01     Earle    Combs"
      ]
     },
     "execution_count": 137,
     "metadata": {},
     "output_type": "execute_result"
    }
   ],
   "source": [
    "bt19.max(level=0).reset_index().merge(bt19.reset_index())  ###level=0:the first level;reset_index()---make the index as a new column"
   ]
  },
  {
   "cell_type": "markdown",
   "metadata": {},
   "source": [
    "20) How many players have hit 30 or more HRs in season while also stealing (SB) 30 more or bases?  A number is okay here"
   ]
  },
  {
   "cell_type": "code",
   "execution_count": 138,
   "metadata": {
    "collapsed": true
   },
   "outputs": [],
   "source": [
    "bt20=bt.groupby(['playerID','yearID'],as_index=False).agg({'HR':sum,'SB':sum})"
   ]
  },
  {
   "cell_type": "code",
   "execution_count": 139,
   "metadata": {},
   "outputs": [
    {
     "data": {
      "text/plain": [
       "38"
      ]
     },
     "execution_count": 139,
     "metadata": {},
     "output_type": "execute_result"
    }
   ],
   "source": [
    "bt20[(bt20['HR']>=30)&(bt20['SB']>=30)]['playerID'].nunique()"
   ]
  },
  {
   "cell_type": "markdown",
   "metadata": {},
   "source": [
    "21) Who had the highest OBP is 1986 with at least 400 PAs? (Dataframe)"
   ]
  },
  {
   "cell_type": "code",
   "execution_count": 140,
   "metadata": {
    "collapsed": true
   },
   "outputs": [],
   "source": [
    "bt['OBP']= (bt['H']+bt['BB']+bt['IBB']+bt['SH']+bt['SF'])/bt['AB']\n",
    "bt['PA']= bt['AB']+bt['BB']+bt['IBB']+bt['SH']+bt['SF']\n"
   ]
  },
  {
   "cell_type": "code",
   "execution_count": 141,
   "metadata": {
    "collapsed": true
   },
   "outputs": [],
   "source": [
    "bt21=bt.groupby(['yearID','playerID','nameFirst','nameLast'],as_index=False).agg({'PA':sum,'OBP':sum})"
   ]
  },
  {
   "cell_type": "code",
   "execution_count": 142,
   "metadata": {},
   "outputs": [
    {
     "data": {
      "text/html": [
       "<div>\n",
       "<style>\n",
       "    .dataframe thead tr:only-child th {\n",
       "        text-align: right;\n",
       "    }\n",
       "\n",
       "    .dataframe thead th {\n",
       "        text-align: left;\n",
       "    }\n",
       "\n",
       "    .dataframe tbody tr th {\n",
       "        vertical-align: top;\n",
       "    }\n",
       "</style>\n",
       "<table border=\"1\" class=\"dataframe\">\n",
       "  <thead>\n",
       "    <tr style=\"text-align: right;\">\n",
       "      <th></th>\n",
       "      <th>yearID</th>\n",
       "      <th>playerID</th>\n",
       "      <th>nameFirst</th>\n",
       "      <th>nameLast</th>\n",
       "      <th>PA</th>\n",
       "      <th>OBP</th>\n",
       "    </tr>\n",
       "  </thead>\n",
       "  <tbody>\n",
       "    <tr>\n",
       "      <th>58871</th>\n",
       "      <td>1986</td>\n",
       "      <td>bonilbo01</td>\n",
       "      <td>Bobby</td>\n",
       "      <td>Bonilla</td>\n",
       "      <td>497.0</td>\n",
       "      <td>0.843082</td>\n",
       "    </tr>\n",
       "  </tbody>\n",
       "</table>\n",
       "</div>"
      ],
      "text/plain": [
       "       yearID   playerID nameFirst nameLast     PA       OBP\n",
       "58871    1986  bonilbo01     Bobby  Bonilla  497.0  0.843082"
      ]
     },
     "execution_count": 142,
     "metadata": {},
     "output_type": "execute_result"
    }
   ],
   "source": [
    "bt21[(bt21['yearID']==1986)&(bt21['PA']>=400)].sort_values('OBP',ascending=False).head(1)"
   ]
  },
  {
   "cell_type": "markdown",
   "metadata": {},
   "source": [
    "22) Same question but for 1997 and only in the NL (check league ID)? (Dataframe)"
   ]
  },
  {
   "cell_type": "code",
   "execution_count": 143,
   "metadata": {
    "collapsed": true
   },
   "outputs": [],
   "source": [
    "bt['OBP']=(bt['H']+bt['BB']+bt['IBB']+bt['SH']+bt['SF'])/bt['AB']\n",
    "bt['PA']= bt['AB']+bt['BB']+bt['IBB']+bt['SH']+bt['SF']\n"
   ]
  },
  {
   "cell_type": "code",
   "execution_count": 144,
   "metadata": {
    "collapsed": true
   },
   "outputs": [],
   "source": [
    "bt22=bt.groupby(['yearID','playerID','nameFirst','nameLast','lgID'],as_index=False).agg({'PA':sum,'OBP':sum})"
   ]
  },
  {
   "cell_type": "code",
   "execution_count": 145,
   "metadata": {},
   "outputs": [
    {
     "data": {
      "text/html": [
       "<div>\n",
       "<style>\n",
       "    .dataframe thead tr:only-child th {\n",
       "        text-align: right;\n",
       "    }\n",
       "\n",
       "    .dataframe thead th {\n",
       "        text-align: left;\n",
       "    }\n",
       "\n",
       "    .dataframe tbody tr th {\n",
       "        vertical-align: top;\n",
       "    }\n",
       "</style>\n",
       "<table border=\"1\" class=\"dataframe\">\n",
       "  <thead>\n",
       "    <tr style=\"text-align: right;\">\n",
       "      <th></th>\n",
       "      <th>yearID</th>\n",
       "      <th>playerID</th>\n",
       "      <th>nameFirst</th>\n",
       "      <th>nameLast</th>\n",
       "      <th>lgID</th>\n",
       "      <th>PA</th>\n",
       "      <th>OBP</th>\n",
       "    </tr>\n",
       "  </thead>\n",
       "  <tbody>\n",
       "    <tr>\n",
       "      <th>71117</th>\n",
       "      <td>1997</td>\n",
       "      <td>daultda01</td>\n",
       "      <td>Darren</td>\n",
       "      <td>Daulton</td>\n",
       "      <td>NL</td>\n",
       "      <td>485.0</td>\n",
       "      <td>0.965894</td>\n",
       "    </tr>\n",
       "  </tbody>\n",
       "</table>\n",
       "</div>"
      ],
      "text/plain": [
       "       yearID   playerID nameFirst nameLast lgID     PA       OBP\n",
       "71117    1997  daultda01    Darren  Daulton   NL  485.0  0.965894"
      ]
     },
     "execution_count": 145,
     "metadata": {},
     "output_type": "execute_result"
    }
   ],
   "source": [
    "bt22[(bt22['yearID']==1997)&(bt22['PA']>=400)&(bt22['lgID']=='NL')].sort_values('OBP',ascending=False).head(1)"
   ]
  },
  {
   "cell_type": "markdown",
   "metadata": {},
   "source": [
    "23) Who had more than the league average HRs in 2012 (filter out all players with less 500 PAs)? (Dataframe)"
   ]
  },
  {
   "cell_type": "code",
   "execution_count": 146,
   "metadata": {
    "collapsed": true
   },
   "outputs": [],
   "source": [
    "bt23=bt.groupby(['lgID','playerID','nameFirst','nameLast','yearID'],as_index=False).agg({'HR':sum,'PA':sum})"
   ]
  },
  {
   "cell_type": "code",
   "execution_count": 147,
   "metadata": {
    "collapsed": true
   },
   "outputs": [],
   "source": [
    "mean=bt23[bt23['yearID']==2012]['HR'].mean()\n"
   ]
  },
  {
   "cell_type": "code",
   "execution_count": 148,
   "metadata": {},
   "outputs": [
    {
     "data": {
      "text/html": [
       "<div>\n",
       "<style>\n",
       "    .dataframe thead tr:only-child th {\n",
       "        text-align: right;\n",
       "    }\n",
       "\n",
       "    .dataframe thead th {\n",
       "        text-align: left;\n",
       "    }\n",
       "\n",
       "    .dataframe tbody tr th {\n",
       "        vertical-align: top;\n",
       "    }\n",
       "</style>\n",
       "<table border=\"1\" class=\"dataframe\">\n",
       "  <thead>\n",
       "    <tr style=\"text-align: right;\">\n",
       "      <th></th>\n",
       "      <th>lgID</th>\n",
       "      <th>playerID</th>\n",
       "      <th>nameFirst</th>\n",
       "      <th>nameLast</th>\n",
       "      <th>yearID</th>\n",
       "      <th>HR</th>\n",
       "      <th>PA</th>\n",
       "    </tr>\n",
       "  </thead>\n",
       "  <tbody>\n",
       "    <tr>\n",
       "      <th>2674</th>\n",
       "      <td>AL</td>\n",
       "      <td>andinro01</td>\n",
       "      <td>Robert</td>\n",
       "      <td>Andino</td>\n",
       "      <td>2012</td>\n",
       "      <td>7</td>\n",
       "      <td>429.0</td>\n",
       "    </tr>\n",
       "    <tr>\n",
       "      <th>2841</th>\n",
       "      <td>AL</td>\n",
       "      <td>arencjp01</td>\n",
       "      <td>J. P.</td>\n",
       "      <td>Arencibia</td>\n",
       "      <td>2012</td>\n",
       "      <td>18</td>\n",
       "      <td>370.0</td>\n",
       "    </tr>\n",
       "    <tr>\n",
       "      <th>3100</th>\n",
       "      <td>AL</td>\n",
       "      <td>avilaal01</td>\n",
       "      <td>Alex</td>\n",
       "      <td>Avila</td>\n",
       "      <td>2012</td>\n",
       "      <td>9</td>\n",
       "      <td>434.0</td>\n",
       "    </tr>\n",
       "    <tr>\n",
       "      <th>3980</th>\n",
       "      <td>AL</td>\n",
       "      <td>bautijo02</td>\n",
       "      <td>Jose</td>\n",
       "      <td>Bautista</td>\n",
       "      <td>2012</td>\n",
       "      <td>27</td>\n",
       "      <td>397.0</td>\n",
       "    </tr>\n",
       "    <tr>\n",
       "      <th>4790</th>\n",
       "      <td>AL</td>\n",
       "      <td>betanyu01</td>\n",
       "      <td>Yuniesky</td>\n",
       "      <td>Betancourt</td>\n",
       "      <td>2012</td>\n",
       "      <td>7</td>\n",
       "      <td>228.0</td>\n",
       "    </tr>\n",
       "    <tr>\n",
       "      <th>4796</th>\n",
       "      <td>AL</td>\n",
       "      <td>betemwi01</td>\n",
       "      <td>Wilson</td>\n",
       "      <td>Betemit</td>\n",
       "      <td>2012</td>\n",
       "      <td>12</td>\n",
       "      <td>375.0</td>\n",
       "    </tr>\n",
       "    <tr>\n",
       "      <th>5360</th>\n",
       "      <td>AL</td>\n",
       "      <td>boescbr01</td>\n",
       "      <td>Brennan</td>\n",
       "      <td>Boesch</td>\n",
       "      <td>2012</td>\n",
       "      <td>12</td>\n",
       "      <td>499.0</td>\n",
       "    </tr>\n",
       "    <tr>\n",
       "      <th>7574</th>\n",
       "      <td>AL</td>\n",
       "      <td>cainlo01</td>\n",
       "      <td>Lorenzo</td>\n",
       "      <td>Cain</td>\n",
       "      <td>2012</td>\n",
       "      <td>7</td>\n",
       "      <td>241.0</td>\n",
       "    </tr>\n",
       "    <tr>\n",
       "      <th>8023</th>\n",
       "      <td>AL</td>\n",
       "      <td>carpmi01</td>\n",
       "      <td>Mike</td>\n",
       "      <td>Carp</td>\n",
       "      <td>2012</td>\n",
       "      <td>5</td>\n",
       "      <td>187.0</td>\n",
       "    </tr>\n",
       "    <tr>\n",
       "      <th>8136</th>\n",
       "      <td>AL</td>\n",
       "      <td>cartech02</td>\n",
       "      <td>Chris</td>\n",
       "      <td>Carter</td>\n",
       "      <td>2012</td>\n",
       "      <td>16</td>\n",
       "      <td>261.0</td>\n",
       "    </tr>\n",
       "    <tr>\n",
       "      <th>8748</th>\n",
       "      <td>AL</td>\n",
       "      <td>chaveer01</td>\n",
       "      <td>Eric</td>\n",
       "      <td>Chavez</td>\n",
       "      <td>2012</td>\n",
       "      <td>16</td>\n",
       "      <td>315.0</td>\n",
       "    </tr>\n",
       "    <tr>\n",
       "      <th>8813</th>\n",
       "      <td>AL</td>\n",
       "      <td>chiselo01</td>\n",
       "      <td>Lonnie</td>\n",
       "      <td>Chisenhall</td>\n",
       "      <td>2012</td>\n",
       "      <td>5</td>\n",
       "      <td>150.0</td>\n",
       "    </tr>\n",
       "    <tr>\n",
       "      <th>9988</th>\n",
       "      <td>AL</td>\n",
       "      <td>coopeda01</td>\n",
       "      <td>David</td>\n",
       "      <td>Cooper</td>\n",
       "      <td>2012</td>\n",
       "      <td>4</td>\n",
       "      <td>144.0</td>\n",
       "    </tr>\n",
       "    <tr>\n",
       "      <th>10976</th>\n",
       "      <td>AL</td>\n",
       "      <td>damonjo01</td>\n",
       "      <td>Johnny</td>\n",
       "      <td>Damon</td>\n",
       "      <td>2012</td>\n",
       "      <td>4</td>\n",
       "      <td>224.0</td>\n",
       "    </tr>\n",
       "    <tr>\n",
       "      <th>11293</th>\n",
       "      <td>AL</td>\n",
       "      <td>davisra01</td>\n",
       "      <td>Rajai</td>\n",
       "      <td>Davis</td>\n",
       "      <td>2012</td>\n",
       "      <td>8</td>\n",
       "      <td>484.0</td>\n",
       "    </tr>\n",
       "    <tr>\n",
       "      <th>12000</th>\n",
       "      <td>AL</td>\n",
       "      <td>dirksan01</td>\n",
       "      <td>Andy</td>\n",
       "      <td>Dirks</td>\n",
       "      <td>2012</td>\n",
       "      <td>8</td>\n",
       "      <td>344.0</td>\n",
       "    </tr>\n",
       "    <tr>\n",
       "      <th>12183</th>\n",
       "      <td>AL</td>\n",
       "      <td>donaljo02</td>\n",
       "      <td>Josh</td>\n",
       "      <td>Donaldson</td>\n",
       "      <td>2012</td>\n",
       "      <td>9</td>\n",
       "      <td>289.0</td>\n",
       "    </tr>\n",
       "    <tr>\n",
       "      <th>12400</th>\n",
       "      <td>AL</td>\n",
       "      <td>doziebr01</td>\n",
       "      <td>Brian</td>\n",
       "      <td>Dozier</td>\n",
       "      <td>2012</td>\n",
       "      <td>6</td>\n",
       "      <td>339.0</td>\n",
       "    </tr>\n",
       "    <tr>\n",
       "      <th>12483</th>\n",
       "      <td>AL</td>\n",
       "      <td>drewst01</td>\n",
       "      <td>Stephen</td>\n",
       "      <td>Drew</td>\n",
       "      <td>2012</td>\n",
       "      <td>5</td>\n",
       "      <td>173.0</td>\n",
       "    </tr>\n",
       "    <tr>\n",
       "      <th>12648</th>\n",
       "      <td>AL</td>\n",
       "      <td>duncash01</td>\n",
       "      <td>Shelley</td>\n",
       "      <td>Duncan</td>\n",
       "      <td>2012</td>\n",
       "      <td>11</td>\n",
       "      <td>264.0</td>\n",
       "    </tr>\n",
       "    <tr>\n",
       "      <th>13189</th>\n",
       "      <td>AL</td>\n",
       "      <td>ellsbja01</td>\n",
       "      <td>Jacoby</td>\n",
       "      <td>Ellsbury</td>\n",
       "      <td>2012</td>\n",
       "      <td>4</td>\n",
       "      <td>323.0</td>\n",
       "    </tr>\n",
       "    <tr>\n",
       "      <th>14366</th>\n",
       "      <td>AL</td>\n",
       "      <td>flahery01</td>\n",
       "      <td>Ryan</td>\n",
       "      <td>Flaherty</td>\n",
       "      <td>2012</td>\n",
       "      <td>6</td>\n",
       "      <td>163.0</td>\n",
       "    </tr>\n",
       "    <tr>\n",
       "      <th>14484</th>\n",
       "      <td>AL</td>\n",
       "      <td>flowety01</td>\n",
       "      <td>Tyler</td>\n",
       "      <td>Flowers</td>\n",
       "      <td>2012</td>\n",
       "      <td>7</td>\n",
       "      <td>149.0</td>\n",
       "    </tr>\n",
       "    <tr>\n",
       "      <th>16351</th>\n",
       "      <td>AL</td>\n",
       "      <td>gomesjo01</td>\n",
       "      <td>Jonny</td>\n",
       "      <td>Gomes</td>\n",
       "      <td>2012</td>\n",
       "      <td>18</td>\n",
       "      <td>327.0</td>\n",
       "    </tr>\n",
       "    <tr>\n",
       "      <th>16356</th>\n",
       "      <td>AL</td>\n",
       "      <td>gomesya01</td>\n",
       "      <td>Yan</td>\n",
       "      <td>Gomes</td>\n",
       "      <td>2012</td>\n",
       "      <td>4</td>\n",
       "      <td>108.0</td>\n",
       "    </tr>\n",
       "    <tr>\n",
       "      <th>17626</th>\n",
       "      <td>AL</td>\n",
       "      <td>gutiefr01</td>\n",
       "      <td>Franklin</td>\n",
       "      <td>Gutierrez</td>\n",
       "      <td>2012</td>\n",
       "      <td>4</td>\n",
       "      <td>161.0</td>\n",
       "    </tr>\n",
       "    <tr>\n",
       "      <th>17768</th>\n",
       "      <td>AL</td>\n",
       "      <td>hafnetr01</td>\n",
       "      <td>Travis</td>\n",
       "      <td>Hafner</td>\n",
       "      <td>2012</td>\n",
       "      <td>12</td>\n",
       "      <td>256.0</td>\n",
       "    </tr>\n",
       "    <tr>\n",
       "      <th>18136</th>\n",
       "      <td>AL</td>\n",
       "      <td>hannaja01</td>\n",
       "      <td>Jack</td>\n",
       "      <td>Hannahan</td>\n",
       "      <td>2012</td>\n",
       "      <td>4</td>\n",
       "      <td>316.0</td>\n",
       "    </tr>\n",
       "    <tr>\n",
       "      <th>21002</th>\n",
       "      <td>AL</td>\n",
       "      <td>iannech01</td>\n",
       "      <td>Chris</td>\n",
       "      <td>Iannetta</td>\n",
       "      <td>2012</td>\n",
       "      <td>9</td>\n",
       "      <td>251.0</td>\n",
       "    </tr>\n",
       "    <tr>\n",
       "      <th>21020</th>\n",
       "      <td>AL</td>\n",
       "      <td>ibanera01</td>\n",
       "      <td>Raul</td>\n",
       "      <td>Ibanez</td>\n",
       "      <td>2012</td>\n",
       "      <td>19</td>\n",
       "      <td>426.0</td>\n",
       "    </tr>\n",
       "    <tr>\n",
       "      <th>...</th>\n",
       "      <td>...</td>\n",
       "      <td>...</td>\n",
       "      <td>...</td>\n",
       "      <td>...</td>\n",
       "      <td>...</td>\n",
       "      <td>...</td>\n",
       "      <td>...</td>\n",
       "    </tr>\n",
       "    <tr>\n",
       "      <th>83634</th>\n",
       "      <td>NL</td>\n",
       "      <td>ransoco01</td>\n",
       "      <td>Cody</td>\n",
       "      <td>Ransom</td>\n",
       "      <td>2012</td>\n",
       "      <td>11</td>\n",
       "      <td>279.0</td>\n",
       "    </tr>\n",
       "    <tr>\n",
       "      <th>84819</th>\n",
       "      <td>NL</td>\n",
       "      <td>riverju01</td>\n",
       "      <td>Juan</td>\n",
       "      <td>Rivera</td>\n",
       "      <td>2012</td>\n",
       "      <td>9</td>\n",
       "      <td>337.0</td>\n",
       "    </tr>\n",
       "    <tr>\n",
       "      <th>84875</th>\n",
       "      <td>NL</td>\n",
       "      <td>rizzoan01</td>\n",
       "      <td>Anthony</td>\n",
       "      <td>Rizzo</td>\n",
       "      <td>2012</td>\n",
       "      <td>15</td>\n",
       "      <td>366.0</td>\n",
       "    </tr>\n",
       "    <tr>\n",
       "      <th>85034</th>\n",
       "      <td>NL</td>\n",
       "      <td>roberry01</td>\n",
       "      <td>Ryan</td>\n",
       "      <td>Roberts</td>\n",
       "      <td>2012</td>\n",
       "      <td>6</td>\n",
       "      <td>281.0</td>\n",
       "    </tr>\n",
       "    <tr>\n",
       "      <th>85441</th>\n",
       "      <td>NL</td>\n",
       "      <td>rolensc01</td>\n",
       "      <td>Scott</td>\n",
       "      <td>Rolen</td>\n",
       "      <td>2012</td>\n",
       "      <td>8</td>\n",
       "      <td>327.0</td>\n",
       "    </tr>\n",
       "    <tr>\n",
       "      <th>85574</th>\n",
       "      <td>NL</td>\n",
       "      <td>rosarwi01</td>\n",
       "      <td>Wilin</td>\n",
       "      <td>Rosario</td>\n",
       "      <td>2012</td>\n",
       "      <td>28</td>\n",
       "      <td>427.0</td>\n",
       "    </tr>\n",
       "    <tr>\n",
       "      <th>85687</th>\n",
       "      <td>NL</td>\n",
       "      <td>rossda01</td>\n",
       "      <td>David</td>\n",
       "      <td>Ross</td>\n",
       "      <td>2012</td>\n",
       "      <td>9</td>\n",
       "      <td>196.0</td>\n",
       "    </tr>\n",
       "    <tr>\n",
       "      <th>85922</th>\n",
       "      <td>NL</td>\n",
       "      <td>ruggiju01</td>\n",
       "      <td>Justin</td>\n",
       "      <td>Ruggiano</td>\n",
       "      <td>2012</td>\n",
       "      <td>13</td>\n",
       "      <td>319.0</td>\n",
       "    </tr>\n",
       "    <tr>\n",
       "      <th>85940</th>\n",
       "      <td>NL</td>\n",
       "      <td>ruizca01</td>\n",
       "      <td>Carlos</td>\n",
       "      <td>Ruiz</td>\n",
       "      <td>2012</td>\n",
       "      <td>16</td>\n",
       "      <td>411.0</td>\n",
       "    </tr>\n",
       "    <tr>\n",
       "      <th>86094</th>\n",
       "      <td>NL</td>\n",
       "      <td>rutlejo01</td>\n",
       "      <td>Josh</td>\n",
       "      <td>Rutledge</td>\n",
       "      <td>2012</td>\n",
       "      <td>8</td>\n",
       "      <td>287.0</td>\n",
       "    </tr>\n",
       "    <tr>\n",
       "      <th>86459</th>\n",
       "      <td>NL</td>\n",
       "      <td>sanchga01</td>\n",
       "      <td>Gaby</td>\n",
       "      <td>Sanchez</td>\n",
       "      <td>2012</td>\n",
       "      <td>7</td>\n",
       "      <td>327.0</td>\n",
       "    </tr>\n",
       "    <tr>\n",
       "      <th>86593</th>\n",
       "      <td>NL</td>\n",
       "      <td>sandopa01</td>\n",
       "      <td>Pablo</td>\n",
       "      <td>Sandoval</td>\n",
       "      <td>2012</td>\n",
       "      <td>12</td>\n",
       "      <td>445.0</td>\n",
       "    </tr>\n",
       "    <tr>\n",
       "      <th>86888</th>\n",
       "      <td>NL</td>\n",
       "      <td>schafjo02</td>\n",
       "      <td>Jordan</td>\n",
       "      <td>Schafer</td>\n",
       "      <td>2012</td>\n",
       "      <td>4</td>\n",
       "      <td>359.0</td>\n",
       "    </tr>\n",
       "    <tr>\n",
       "      <th>86985</th>\n",
       "      <td>NL</td>\n",
       "      <td>schiena01</td>\n",
       "      <td>Nate</td>\n",
       "      <td>Schierholtz</td>\n",
       "      <td>2012</td>\n",
       "      <td>6</td>\n",
       "      <td>270.0</td>\n",
       "    </tr>\n",
       "    <tr>\n",
       "      <th>89084</th>\n",
       "      <td>NL</td>\n",
       "      <td>snydech02</td>\n",
       "      <td>Chris</td>\n",
       "      <td>Snyder</td>\n",
       "      <td>2012</td>\n",
       "      <td>7</td>\n",
       "      <td>258.0</td>\n",
       "    </tr>\n",
       "    <tr>\n",
       "      <th>89247</th>\n",
       "      <td>NL</td>\n",
       "      <td>sotoge01</td>\n",
       "      <td>Geovany</td>\n",
       "      <td>Soto</td>\n",
       "      <td>2012</td>\n",
       "      <td>6</td>\n",
       "      <td>196.0</td>\n",
       "    </tr>\n",
       "    <tr>\n",
       "      <th>90018</th>\n",
       "      <td>NL</td>\n",
       "      <td>stewaia01</td>\n",
       "      <td>Ian</td>\n",
       "      <td>Stewart</td>\n",
       "      <td>2012</td>\n",
       "      <td>5</td>\n",
       "      <td>204.0</td>\n",
       "    </tr>\n",
       "    <tr>\n",
       "      <th>90684</th>\n",
       "      <td>NL</td>\n",
       "      <td>suzukku01</td>\n",
       "      <td>Kurt</td>\n",
       "      <td>Suzuki</td>\n",
       "      <td>2012</td>\n",
       "      <td>5</td>\n",
       "      <td>165.0</td>\n",
       "    </tr>\n",
       "    <tr>\n",
       "      <th>91545</th>\n",
       "      <td>NL</td>\n",
       "      <td>thomeji01</td>\n",
       "      <td>Jim</td>\n",
       "      <td>Thome</td>\n",
       "      <td>2012</td>\n",
       "      <td>5</td>\n",
       "      <td>71.0</td>\n",
       "    </tr>\n",
       "    <tr>\n",
       "      <th>92375</th>\n",
       "      <td>NL</td>\n",
       "      <td>tulowtr01</td>\n",
       "      <td>Troy</td>\n",
       "      <td>Tulowitzki</td>\n",
       "      <td>2012</td>\n",
       "      <td>8</td>\n",
       "      <td>202.0</td>\n",
       "    </tr>\n",
       "    <tr>\n",
       "      <th>92631</th>\n",
       "      <td>NL</td>\n",
       "      <td>utleych01</td>\n",
       "      <td>Chase</td>\n",
       "      <td>Utley</td>\n",
       "      <td>2012</td>\n",
       "      <td>11</td>\n",
       "      <td>357.0</td>\n",
       "    </tr>\n",
       "    <tr>\n",
       "      <th>92653</th>\n",
       "      <td>NL</td>\n",
       "      <td>valbulu01</td>\n",
       "      <td>Luis</td>\n",
       "      <td>Valbuena</td>\n",
       "      <td>2012</td>\n",
       "      <td>4</td>\n",
       "      <td>304.0</td>\n",
       "    </tr>\n",
       "    <tr>\n",
       "      <th>92671</th>\n",
       "      <td>NL</td>\n",
       "      <td>valdejo02</td>\n",
       "      <td>Jordany</td>\n",
       "      <td>Valdespin</td>\n",
       "      <td>2012</td>\n",
       "      <td>8</td>\n",
       "      <td>204.0</td>\n",
       "    </tr>\n",
       "    <tr>\n",
       "      <th>93054</th>\n",
       "      <td>NL</td>\n",
       "      <td>venabwi01</td>\n",
       "      <td>Will</td>\n",
       "      <td>Venable</td>\n",
       "      <td>2012</td>\n",
       "      <td>9</td>\n",
       "      <td>467.0</td>\n",
       "    </tr>\n",
       "    <tr>\n",
       "      <th>93352</th>\n",
       "      <td>NL</td>\n",
       "      <td>vottojo01</td>\n",
       "      <td>Joey</td>\n",
       "      <td>Votto</td>\n",
       "      <td>2012</td>\n",
       "      <td>14</td>\n",
       "      <td>488.0</td>\n",
       "    </tr>\n",
       "    <tr>\n",
       "      <th>93697</th>\n",
       "      <td>NL</td>\n",
       "      <td>wallabr01</td>\n",
       "      <td>Brett</td>\n",
       "      <td>Wallace</td>\n",
       "      <td>2012</td>\n",
       "      <td>9</td>\n",
       "      <td>249.0</td>\n",
       "    </tr>\n",
       "    <tr>\n",
       "      <th>94474</th>\n",
       "      <td>NL</td>\n",
       "      <td>werthja01</td>\n",
       "      <td>Jayson</td>\n",
       "      <td>Werth</td>\n",
       "      <td>2012</td>\n",
       "      <td>5</td>\n",
       "      <td>345.0</td>\n",
       "    </tr>\n",
       "    <tr>\n",
       "      <th>94935</th>\n",
       "      <td>NL</td>\n",
       "      <td>wiggity01</td>\n",
       "      <td>Ty</td>\n",
       "      <td>Wigginton</td>\n",
       "      <td>2012</td>\n",
       "      <td>11</td>\n",
       "      <td>360.0</td>\n",
       "    </tr>\n",
       "    <tr>\n",
       "      <th>96297</th>\n",
       "      <td>NL</td>\n",
       "      <td>youngch04</td>\n",
       "      <td>Chris</td>\n",
       "      <td>Young</td>\n",
       "      <td>2012</td>\n",
       "      <td>14</td>\n",
       "      <td>361.0</td>\n",
       "    </tr>\n",
       "    <tr>\n",
       "      <th>96353</th>\n",
       "      <td>NL</td>\n",
       "      <td>younger03</td>\n",
       "      <td>Eric</td>\n",
       "      <td>Young</td>\n",
       "      <td>2012</td>\n",
       "      <td>4</td>\n",
       "      <td>192.0</td>\n",
       "    </tr>\n",
       "  </tbody>\n",
       "</table>\n",
       "<p>190 rows × 7 columns</p>\n",
       "</div>"
      ],
      "text/plain": [
       "      lgID   playerID nameFirst     nameLast  yearID  HR     PA\n",
       "2674    AL  andinro01    Robert       Andino    2012   7  429.0\n",
       "2841    AL  arencjp01     J. P.    Arencibia    2012  18  370.0\n",
       "3100    AL  avilaal01      Alex        Avila    2012   9  434.0\n",
       "3980    AL  bautijo02      Jose     Bautista    2012  27  397.0\n",
       "4790    AL  betanyu01  Yuniesky   Betancourt    2012   7  228.0\n",
       "4796    AL  betemwi01    Wilson      Betemit    2012  12  375.0\n",
       "5360    AL  boescbr01   Brennan       Boesch    2012  12  499.0\n",
       "7574    AL   cainlo01   Lorenzo         Cain    2012   7  241.0\n",
       "8023    AL   carpmi01      Mike         Carp    2012   5  187.0\n",
       "8136    AL  cartech02     Chris       Carter    2012  16  261.0\n",
       "8748    AL  chaveer01      Eric       Chavez    2012  16  315.0\n",
       "8813    AL  chiselo01    Lonnie   Chisenhall    2012   5  150.0\n",
       "9988    AL  coopeda01     David       Cooper    2012   4  144.0\n",
       "10976   AL  damonjo01    Johnny        Damon    2012   4  224.0\n",
       "11293   AL  davisra01     Rajai        Davis    2012   8  484.0\n",
       "12000   AL  dirksan01      Andy        Dirks    2012   8  344.0\n",
       "12183   AL  donaljo02      Josh    Donaldson    2012   9  289.0\n",
       "12400   AL  doziebr01     Brian       Dozier    2012   6  339.0\n",
       "12483   AL   drewst01   Stephen         Drew    2012   5  173.0\n",
       "12648   AL  duncash01   Shelley       Duncan    2012  11  264.0\n",
       "13189   AL  ellsbja01    Jacoby     Ellsbury    2012   4  323.0\n",
       "14366   AL  flahery01      Ryan     Flaherty    2012   6  163.0\n",
       "14484   AL  flowety01     Tyler      Flowers    2012   7  149.0\n",
       "16351   AL  gomesjo01     Jonny        Gomes    2012  18  327.0\n",
       "16356   AL  gomesya01       Yan        Gomes    2012   4  108.0\n",
       "17626   AL  gutiefr01  Franklin    Gutierrez    2012   4  161.0\n",
       "17768   AL  hafnetr01    Travis       Hafner    2012  12  256.0\n",
       "18136   AL  hannaja01      Jack     Hannahan    2012   4  316.0\n",
       "21002   AL  iannech01     Chris     Iannetta    2012   9  251.0\n",
       "21020   AL  ibanera01      Raul       Ibanez    2012  19  426.0\n",
       "...    ...        ...       ...          ...     ...  ..    ...\n",
       "83634   NL  ransoco01      Cody       Ransom    2012  11  279.0\n",
       "84819   NL  riverju01      Juan       Rivera    2012   9  337.0\n",
       "84875   NL  rizzoan01   Anthony        Rizzo    2012  15  366.0\n",
       "85034   NL  roberry01      Ryan      Roberts    2012   6  281.0\n",
       "85441   NL  rolensc01     Scott        Rolen    2012   8  327.0\n",
       "85574   NL  rosarwi01     Wilin      Rosario    2012  28  427.0\n",
       "85687   NL   rossda01     David         Ross    2012   9  196.0\n",
       "85922   NL  ruggiju01    Justin     Ruggiano    2012  13  319.0\n",
       "85940   NL   ruizca01    Carlos         Ruiz    2012  16  411.0\n",
       "86094   NL  rutlejo01      Josh     Rutledge    2012   8  287.0\n",
       "86459   NL  sanchga01      Gaby      Sanchez    2012   7  327.0\n",
       "86593   NL  sandopa01     Pablo     Sandoval    2012  12  445.0\n",
       "86888   NL  schafjo02    Jordan      Schafer    2012   4  359.0\n",
       "86985   NL  schiena01      Nate  Schierholtz    2012   6  270.0\n",
       "89084   NL  snydech02     Chris       Snyder    2012   7  258.0\n",
       "89247   NL   sotoge01   Geovany         Soto    2012   6  196.0\n",
       "90018   NL  stewaia01       Ian      Stewart    2012   5  204.0\n",
       "90684   NL  suzukku01      Kurt       Suzuki    2012   5  165.0\n",
       "91545   NL  thomeji01       Jim        Thome    2012   5   71.0\n",
       "92375   NL  tulowtr01      Troy   Tulowitzki    2012   8  202.0\n",
       "92631   NL  utleych01     Chase        Utley    2012  11  357.0\n",
       "92653   NL  valbulu01      Luis     Valbuena    2012   4  304.0\n",
       "92671   NL  valdejo02   Jordany    Valdespin    2012   8  204.0\n",
       "93054   NL  venabwi01      Will      Venable    2012   9  467.0\n",
       "93352   NL  vottojo01      Joey        Votto    2012  14  488.0\n",
       "93697   NL  wallabr01     Brett      Wallace    2012   9  249.0\n",
       "94474   NL  werthja01    Jayson        Werth    2012   5  345.0\n",
       "94935   NL  wiggity01        Ty    Wigginton    2012  11  360.0\n",
       "96297   NL  youngch04     Chris        Young    2012  14  361.0\n",
       "96353   NL  younger03      Eric        Young    2012   4  192.0\n",
       "\n",
       "[190 rows x 7 columns]"
      ]
     },
     "execution_count": 148,
     "metadata": {},
     "output_type": "execute_result"
    }
   ],
   "source": [
    "bt23[(bt23['yearID']==2012)&(bt23['PA']<500)&(bt23['HR']> mean)]\n"
   ]
  },
  {
   "cell_type": "markdown",
   "metadata": {},
   "source": [
    "24) Who is the youngest player to hit 50 or more HRs in a single season? (Dataframe)"
   ]
  },
  {
   "cell_type": "code",
   "execution_count": 27,
   "metadata": {
    "collapsed": true
   },
   "outputs": [],
   "source": [
    "bt['age']=bt['yearID']-bt['birthYear']"
   ]
  },
  {
   "cell_type": "code",
   "execution_count": 25,
   "metadata": {
    "collapsed": true
   },
   "outputs": [],
   "source": [
    "bt24=bt.groupby(['playerID','nameFirst','nameLast','age'],as_index=False).agg({'HR':sum})"
   ]
  },
  {
   "cell_type": "code",
   "execution_count": 31,
   "metadata": {},
   "outputs": [
    {
     "data": {
      "text/html": [
       "<div>\n",
       "<style>\n",
       "    .dataframe thead tr:only-child th {\n",
       "        text-align: right;\n",
       "    }\n",
       "\n",
       "    .dataframe thead th {\n",
       "        text-align: left;\n",
       "    }\n",
       "\n",
       "    .dataframe tbody tr th {\n",
       "        vertical-align: top;\n",
       "    }\n",
       "</style>\n",
       "<table border=\"1\" class=\"dataframe\">\n",
       "  <thead>\n",
       "    <tr style=\"text-align: right;\">\n",
       "      <th></th>\n",
       "      <th>playerID</th>\n",
       "      <th>nameFirst</th>\n",
       "      <th>nameLast</th>\n",
       "      <th>age</th>\n",
       "      <th>HR</th>\n",
       "    </tr>\n",
       "  </thead>\n",
       "  <tbody>\n",
       "    <tr>\n",
       "      <th>26282</th>\n",
       "      <td>fieldpr01</td>\n",
       "      <td>Prince</td>\n",
       "      <td>Fielder</td>\n",
       "      <td>23</td>\n",
       "      <td>50</td>\n",
       "    </tr>\n",
       "  </tbody>\n",
       "</table>\n",
       "</div>"
      ],
      "text/plain": [
       "        playerID nameFirst nameLast  age  HR\n",
       "26282  fieldpr01    Prince  Fielder   23  50"
      ]
     },
     "execution_count": 31,
     "metadata": {},
     "output_type": "execute_result"
    }
   ],
   "source": [
    "bt24[bt24['HR']>=50].sort_values('age').head(1)"
   ]
  },
  {
   "cell_type": "markdown",
   "metadata": {},
   "source": [
    "25) Who are the five youngest players to hit 300 or more HRs for their career? (Dataframe)"
   ]
  },
  {
   "cell_type": "code",
   "execution_count": 60,
   "metadata": {
    "collapsed": true
   },
   "outputs": [],
   "source": [
    "bt25=bt.groupby(['playerID','nameFirst','nameLast','birthYear'],as_index=False).agg({'HR':sum})"
   ]
  },
  {
   "cell_type": "code",
   "execution_count": 62,
   "metadata": {},
   "outputs": [
    {
     "data": {
      "text/html": [
       "<div>\n",
       "<style>\n",
       "    .dataframe thead tr:only-child th {\n",
       "        text-align: right;\n",
       "    }\n",
       "\n",
       "    .dataframe thead th {\n",
       "        text-align: left;\n",
       "    }\n",
       "\n",
       "    .dataframe tbody tr th {\n",
       "        vertical-align: top;\n",
       "    }\n",
       "</style>\n",
       "<table border=\"1\" class=\"dataframe\">\n",
       "  <thead>\n",
       "    <tr style=\"text-align: right;\">\n",
       "      <th></th>\n",
       "      <th>playerID</th>\n",
       "      <th>nameFirst</th>\n",
       "      <th>nameLast</th>\n",
       "      <th>birthYear</th>\n",
       "      <th>HR</th>\n",
       "    </tr>\n",
       "  </thead>\n",
       "  <tbody>\n",
       "    <tr>\n",
       "      <th>5287</th>\n",
       "      <td>fieldpr01</td>\n",
       "      <td>Prince</td>\n",
       "      <td>Fielder</td>\n",
       "      <td>1984</td>\n",
       "      <td>319</td>\n",
       "    </tr>\n",
       "    <tr>\n",
       "      <th>4953</th>\n",
       "      <td>encared01</td>\n",
       "      <td>Edwin</td>\n",
       "      <td>Encarnacion</td>\n",
       "      <td>1983</td>\n",
       "      <td>310</td>\n",
       "    </tr>\n",
       "    <tr>\n",
       "      <th>2385</th>\n",
       "      <td>cabremi01</td>\n",
       "      <td>Miguel</td>\n",
       "      <td>Cabrera</td>\n",
       "      <td>1983</td>\n",
       "      <td>446</td>\n",
       "    </tr>\n",
       "    <tr>\n",
       "      <th>6329</th>\n",
       "      <td>gonzaad01</td>\n",
       "      <td>Adrian</td>\n",
       "      <td>Gonzalez</td>\n",
       "      <td>1982</td>\n",
       "      <td>308</td>\n",
       "    </tr>\n",
       "    <tr>\n",
       "      <th>13782</th>\n",
       "      <td>pujolal01</td>\n",
       "      <td>Albert</td>\n",
       "      <td>Pujols</td>\n",
       "      <td>1980</td>\n",
       "      <td>591</td>\n",
       "    </tr>\n",
       "  </tbody>\n",
       "</table>\n",
       "</div>"
      ],
      "text/plain": [
       "        playerID nameFirst     nameLast  birthYear   HR\n",
       "5287   fieldpr01    Prince      Fielder       1984  319\n",
       "4953   encared01     Edwin  Encarnacion       1983  310\n",
       "2385   cabremi01    Miguel      Cabrera       1983  446\n",
       "6329   gonzaad01    Adrian     Gonzalez       1982  308\n",
       "13782  pujolal01    Albert       Pujols       1980  591"
      ]
     },
     "execution_count": 62,
     "metadata": {},
     "output_type": "execute_result"
    }
   ],
   "source": [
    "bt25[bt25['HR']>=300].sort_values('birthYear',ascending=False).head(5)"
   ]
  },
  {
   "cell_type": "markdown",
   "metadata": {
    "collapsed": true
   },
   "source": [
    "26)Graph total HRs per season using bar graph"
   ]
  },
  {
   "cell_type": "code",
   "execution_count": 16,
   "metadata": {
    "collapsed": true
   },
   "outputs": [],
   "source": [
    "import matplotlib.pyplot as plt"
   ]
  },
  {
   "cell_type": "code",
   "execution_count": 26,
   "metadata": {
    "collapsed": true
   },
   "outputs": [],
   "source": [
    "%matplotlib inline"
   ]
  },
  {
   "cell_type": "code",
   "execution_count": 27,
   "metadata": {
    "collapsed": true
   },
   "outputs": [],
   "source": [
    "bt26=bt.groupby('yearID',as_index=False).agg({'HR':sum})"
   ]
  },
  {
   "cell_type": "code",
   "execution_count": 30,
   "metadata": {},
   "outputs": [
    {
     "data": {
      "text/plain": [
       "[<matplotlib.text.Text at 0x1193ca3c8>,\n",
       " <matplotlib.text.Text at 0x11a058278>,\n",
       " <matplotlib.text.Text at 0x11bc56208>]"
      ]
     },
     "execution_count": 30,
     "metadata": {},
     "output_type": "execute_result"
    },
    {
     "data": {
      "image/png": "[encoded data removed]",
      "text/plain": [
       "<matplotlib.figure.Figure at 0x119dbfcf8>"
      ]
     },
     "metadata": {},
     "output_type": "display_data"
    }
   ],
   "source": [
    "plt.bar(bt26['yearID'],bt26['HR'])\n",
    "plt.axes().set(xlabel='seasons',ylabel='total HRs',title='total HRs per season')"
   ]
  },
  {
   "cell_type": "markdown",
   "metadata": {
    "collapsed": true
   },
   "source": [
    "27)Using a line graph please graph the average HRs per AB (think about this) per season"
   ]
  },
  {
   "cell_type": "code",
   "execution_count": 41,
   "metadata": {
    "collapsed": true
   },
   "outputs": [],
   "source": [
    "bt27=bt.groupby(['yearID','playerID'],as_index=False).agg({'HR':sum,'AB':sum})"
   ]
  },
  {
   "cell_type": "code",
   "execution_count": 44,
   "metadata": {
    "collapsed": true
   },
   "outputs": [],
   "source": [
    "bt27['HRs per AB']= bt27['HR']/bt27['AB']"
   ]
  },
  {
   "cell_type": "code",
   "execution_count": 48,
   "metadata": {
    "collapsed": true
   },
   "outputs": [],
   "source": [
    "bt27a=bt27.groupby('yearID',as_index=False)['HRs per AB'].mean()"
   ]
  },
  {
   "cell_type": "code",
   "execution_count": 53,
   "metadata": {},
   "outputs": [
    {
     "data": {
      "text/plain": [
       "[<matplotlib.text.Text at 0x11b0f7470>,\n",
       " <matplotlib.text.Text at 0x11b0f04e0>,\n",
       " <matplotlib.text.Text at 0x11b182400>]"
      ]
     },
     "execution_count": 53,
     "metadata": {},
     "output_type": "execute_result"
    },
    {
     "data": {
      "image/png": "[encoded data removed]",
      "text/plain": [
       "<matplotlib.figure.Figure at 0x11b0da748>"
      ]
     },
     "metadata": {},
     "output_type": "display_data"
    }
   ],
   "source": [
    "plt.plot(bt27a['yearID'].values,bt27a['HRs per AB'].values)\n",
    "plt.axes().set(xlabel='seasons',ylabel='HRs per AB',title='average HRs per AB per season')"
   ]
  },
  {
   "cell_type": "code",
   "execution_count": null,
   "metadata": {
    "collapsed": true
   },
   "outputs": [],
   "source": []
  }
 ],
 "metadata": {
  "kernelspec": {
   "display_name": "Python 3",
   "language": "python",
   "name": "python3"
  },
  "language_info": {
   "codemirror_mode": {
    "name": "ipython",
    "version": 3
   },
   "file_extension": ".py",
   "mimetype": "text/x-python",
   "name": "python",
   "nbconvert_exporter": "python",
   "pygments_lexer": "ipython3",
   "version": "3.6.1"
  }
 },
 "nbformat": 4,
 "nbformat_minor": 2
}
